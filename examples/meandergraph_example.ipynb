{
 "cells": [
  {
   "cell_type": "markdown",
   "metadata": {},
   "source": [
    "### Import stuff"
   ]
  },
  {
   "cell_type": "code",
   "execution_count": null,
   "metadata": {},
   "outputs": [],
   "source": [
    "import matplotlib.pyplot as plt\n",
    "import matplotlib.cm as cm\n",
    "import numpy as np\n",
    "from scipy.signal import savgol_filter\n",
    "from scipy.spatial import distance\n",
    "from librosa.sequence import dtw\n",
    "from tqdm import trange, tqdm\n",
    "import networkx as nx\n",
    "from descartes import PolygonPatch\n",
    "from shapely.geometry import Polygon, MultiPolygon, Point, MultiLineString, LineString, shape, JOIN_STYLE\n",
    "from shapely.geometry.polygon import LinearRing\n",
    "from shapely.ops import snap, unary_union\n",
    "\n",
    "import sys\n",
    "sys.path.append('../meandergraph/')\n",
    "import meandergraph as mg"
   ]
  },
  {
   "cell_type": "code",
   "execution_count": null,
   "metadata": {},
   "outputs": [],
   "source": [
    "cd /Users/zoltan/Dropbox/Channels/meanderpy/meanderpy"
   ]
  },
  {
   "cell_type": "code",
   "execution_count": null,
   "metadata": {},
   "outputs": [],
   "source": [
    "import meanderpy as mp"
   ]
  },
  {
   "cell_type": "code",
   "execution_count": null,
   "metadata": {},
   "outputs": [],
   "source": [
    "# Enable automatic module reloading\n",
    "%load_ext autoreload\n",
    "%autoreload 2\n",
    "\n",
    "# Ignore warnings\n",
    "import warnings\n",
    "warnings.filterwarnings('ignore')\n",
    "\n",
    "# Set backend to display mpl plots in separate interactive window\n",
    "%matplotlib qt"
   ]
  },
  {
   "cell_type": "markdown",
   "metadata": {},
   "source": [
    "### Build meanderpy model"
   ]
  },
  {
   "cell_type": "code",
   "execution_count": null,
   "metadata": {},
   "outputs": [],
   "source": [
    "nit = 2000                   # number of iterations\n",
    "W = 200.0                    # channel width (m)\n",
    "D = 6.0                      # channel depth (m)\n",
    "depths = D * np.ones((nit,))  # channel depths for different iterations  \n",
    "pad = 100                    # padding (number of nodepoints along centerline)\n",
    "deltas = 50.0                # sampling distance along centerline           \n",
    "Cfs = 0.011 * np.ones((nit,)) # dimensionless Chezy friction factor\n",
    "crdist = 2 * W               # threshold distance at which cutoffs occur\n",
    "kl = 60.0/(365*24*60*60.0)   # migration rate constant (m/s)\n",
    "kv =  1.0e-12               # vertical slope-dependent erosion rate constant (m/s)\n",
    "dt = 2*0.05*365*24*60*60.0     # time step (s)\n",
    "dens = 1000                  # density of water (kg/m3)\n",
    "saved_ts = 10                # which time steps will be saved\n",
    "n_bends = 30                 # approximate number of bends you want to model\n",
    "Sl = 0.0                     # initial slope (matters more for submarine channels than rivers)\n",
    "t1 = 500                    # time step when incision starts\n",
    "t2 = 700                    # time step when lateral migration starts\n",
    "t3 = 1200                    # time step when aggradation starts\n",
    "aggr_factor = 2e-9         # aggradation factor (m/s, about 0.18 m/year, it kicks in after t3)\n",
    "\n",
    "ch = mp.generate_initial_channel(W, depths[0], Sl, deltas, pad, n_bends) # initialize channel\n",
    "chb = mp.ChannelBelt(channels=[ch], cutoffs=[], cl_times=[0.0], cutoff_times=[]) # create channel belt object\n",
    "\n",
    "chb.migrate(nit,saved_ts,deltas,pad,crdist,depths,Cfs,kl,kv,dt,dens,t1,t2,t3,aggr_factor) # channel migration\n",
    "fig = chb.plot('strat', 20, 60, chb.cl_times[-1], len(chb.channels)) # plotting"
   ]
  },
  {
   "cell_type": "code",
   "execution_count": null,
   "metadata": {},
   "outputs": [],
   "source": [
    "points = plt.ginput(n=2) # click twice to select start- and endpoints on first centerline"
   ]
  },
  {
   "cell_type": "code",
   "execution_count": null,
   "metadata": {},
   "outputs": [],
   "source": [
    "from scipy import signal, spatial\n",
    "cl_points = np.vstack((chb.channels[0].x, chb.channels[0].y)).T # coordinates of first centerlines\n",
    "tree = spatial.KDTree(cl_points)\n",
    "plt.plot(chb.channels[0].x[tree.query(points[0])[1]], chb.channels[0].y[tree.query(points[0])[1]], \n",
    "         'ro', zorder=10000)\n",
    "plt.plot(chb.channels[0].x[tree.query(points[1])[1]], chb.channels[0].y[tree.query(points[1])[1]], \n",
    "         'ro', zorder=10000)"
   ]
  },
  {
   "cell_type": "code",
   "execution_count": null,
   "metadata": {},
   "outputs": [],
   "source": [
    "len(chb.channels)"
   ]
  },
  {
   "cell_type": "markdown",
   "metadata": {},
   "source": [
    "### Resample and correlate centerlines and banklines"
   ]
  },
  {
   "cell_type": "code",
   "execution_count": null,
   "metadata": {},
   "outputs": [],
   "source": [
    "first_index = tree.query(points[0])[1]\n",
    "last_index = tree.query(points[1])[1]\n",
    "\n",
    "first_channel = 60\n",
    "last_channel = 200\n",
    "\n",
    "# create lists of x, y, z coordinates from channel belt object:\n",
    "X = []\n",
    "Y = []\n",
    "Z = []\n",
    "for i in range(first_channel, last_channel):\n",
    "    X.append(chb.channels[i].x)\n",
    "    Y.append(chb.channels[i].y)\n",
    "    Z.append(chb.channels[i].z)\n",
    "\n",
    "# correlate all centerlines:    \n",
    "P = []\n",
    "Q = []\n",
    "for i in trange(len(X) - 1):\n",
    "    p, q = mg.correlate_curves(X[i], X[i+1], Y[i], Y[i+1])\n",
    "    P.append(p)\n",
    "    Q.append(q)\n",
    "\n",
    "indices1, x, y = mg.find_indices(first_index, X, Y, P, Q)\n",
    "indices2, x, y = mg.find_indices(last_index, X, Y, P, Q)\n",
    "for i in range(len(X)):\n",
    "    X[i] = X[i][indices1[i] : indices2[i]+1]\n",
    "    Y[i] = Y[i][indices1[i] : indices2[i]+1]\n",
    "    Z[i] = Z[i][indices1[i] : indices2[i]+1]\n",
    "\n",
    "# create bank coordinates:\n",
    "X1 = [] # right bank x coordinate\n",
    "X2 = [] # left bank x coordinate\n",
    "Y1 = [] # right bank y coordinate\n",
    "Y2 = [] # left bank y coordinate\n",
    "for i in range(len(X)):\n",
    "    x1 = X[i].copy()\n",
    "    y1 = Y[i].copy()\n",
    "    x2 = X[i].copy()\n",
    "    y2 = Y[i].copy()\n",
    "    x = X[i].copy()\n",
    "    y = Y[i].copy()\n",
    "    ns = len(x)\n",
    "    dx = np.diff(x); dy = np.diff(y) \n",
    "    ds = np.sqrt(dx**2+dy**2)\n",
    "    x1[:-1] = x[:-1] + 0.5*W*np.diff(y)/ds\n",
    "    y1[:-1] = y[:-1] - 0.5*W*np.diff(x)/ds\n",
    "    x2[:-1] = x[:-1] - 0.5*W*np.diff(y)/ds\n",
    "    y2[:-1] = y[:-1] + 0.5*W*np.diff(x)/ds\n",
    "    x1[ns-1] = x[ns-1] + 0.5*W*(y[ns-1]-y[ns-2])/ds[ns-2]\n",
    "    y1[ns-1] = y[ns-1] - 0.5*W*(x[ns-1]-x[ns-2])/ds[ns-2]\n",
    "    x2[ns-1] = x[ns-1] - 0.5*W*(y[ns-1]-y[ns-2])/ds[ns-2]\n",
    "    y2[ns-1] = y[ns-1] + 0.5*W*(x[ns-1]-x[ns-2])/ds[ns-2]\n",
    "    X1.append(x1)\n",
    "    X2.append(x2)\n",
    "    Y1.append(y1)\n",
    "    Y2.append(y2)\n",
    "    \n",
    "# resample centerlines to ds = 1.0 meters:\n",
    "for i in range(len(X)):\n",
    "    x,y,z,dx,dy,dz,ds,s = mp.resample_centerline(X[i], Y[i], Z[i], 1.0)\n",
    "    X[i] = x\n",
    "    Y[i] = y\n",
    "for i in range(len(X1)):\n",
    "    x,y,z,dx,dy,dz,ds,s = mp.resample_centerline(X1[i], Y1[i], Z[i], 1.0)\n",
    "    X1[i] = x\n",
    "    Y1[i] = y\n",
    "for i in range(len(X2)):\n",
    "    x,y,z,dx,dy,dz,ds,s = mp.resample_centerline(X2[i], Y2[i], Z[i], 1.0)\n",
    "    X2[i] = x\n",
    "    Y2[i] = y\n",
    "\n",
    "P, Q = mg.correlate_set_of_curves(X, Y)\n",
    "P1, Q1 = mg.correlate_set_of_curves(X1, Y1)\n",
    "P2, Q2 = mg.correlate_set_of_curves(X2, Y2)"
   ]
  },
  {
   "cell_type": "code",
   "execution_count": null,
   "metadata": {},
   "outputs": [],
   "source": [
    "plt.figure()\n",
    "plt.plot(X1[100], Y1[100])\n",
    "plt.plot(X2[100], Y2[100])"
   ]
  },
  {
   "cell_type": "markdown",
   "metadata": {},
   "source": [
    "### Create centerline- and bank graphs"
   ]
  },
  {
   "cell_type": "code",
   "execution_count": null,
   "metadata": {},
   "outputs": [],
   "source": [
    "# reload(mg)\n",
    "ts = len(X)\n",
    "graph = mg.create_graph_from_channel_lines(X[:ts], Y[:ts], P[:ts-1], Q[:ts-1], n_points=20, max_dist=100, remove_cutoff_edges=True)\n",
    "graph1 = mg.create_graph_from_channel_lines(X1[:ts], Y1[:ts], P1[:ts-1], Q1[:ts-1], n_points=20, max_dist=100, remove_cutoff_edges=True)\n",
    "graph2 = mg.create_graph_from_channel_lines(X2[:ts], Y2[:ts], P2[:ts-1], Q2[:ts-1], n_points=20, max_dist=100, remove_cutoff_edges=True)"
   ]
  },
  {
   "cell_type": "code",
   "execution_count": null,
   "metadata": {},
   "outputs": [],
   "source": [
    "graph = mg.remove_high_density_nodes(graph, min_dist = 10, max_dist = 30)\n",
    "graph1 = mg.remove_high_density_nodes(graph1, min_dist = 10, max_dist = 30)\n",
    "graph2 = mg.remove_high_density_nodes(graph2, min_dist = 10, max_dist = 30)"
   ]
  },
  {
   "cell_type": "markdown",
   "metadata": {},
   "source": [
    "### Plot one of the graphs"
   ]
  },
  {
   "cell_type": "code",
   "execution_count": null,
   "metadata": {},
   "outputs": [],
   "source": [
    "fig = plt.figure()\n",
    "ax = fig.add_subplot(111)\n",
    "mg.plot_graph(graph, ax)\n",
    "plt.axis('equal');"
   ]
  },
  {
   "cell_type": "markdown",
   "metadata": {},
   "source": [
    "### Create and plot scrolls and bars (connected scrolls)"
   ]
  },
  {
   "cell_type": "code",
   "execution_count": null,
   "metadata": {},
   "outputs": [],
   "source": [
    "cutoff_area = 0.25*1e6\n",
    "fig = plt.figure()\n",
    "ax = fig.add_subplot(111)\n",
    "scrolls, scroll_ages, cutoffs, all_bars_graph = mg.create_scrolls_and_find_connected_scrolls(graph1, graph2, cutoff_area)\n",
    "plt.axis('equal');"
   ]
  },
  {
   "cell_type": "markdown",
   "metadata": {},
   "source": [
    "### Create 'bar graphs'"
   ]
  },
  {
   "cell_type": "code",
   "execution_count": null,
   "metadata": {},
   "outputs": [],
   "source": [
    "# create bars and bar graphs\n",
    "min_area = 5000\n",
    "wbars, poly_graph_1, poly_graph_2 = mg.create_polygon_graphs_and_bar_graphs(graph1, graph2, all_bars_graph, \n",
    "                                                                scrolls, scroll_ages, cutoffs, X1, Y1, X2, Y2, min_area)"
   ]
  },
  {
   "cell_type": "markdown",
   "metadata": {},
   "source": [
    "### Plot 'bar' graphs, colored by an attribute"
   ]
  },
  {
   "cell_type": "markdown",
   "metadata": {},
   "source": [
    "#### Color by migration rate"
   ]
  },
  {
   "cell_type": "code",
   "execution_count": null,
   "metadata": {},
   "outputs": [],
   "source": [
    "# plot them, using migration rate\n",
    "fig = plt.figure(figsize = (12, 12)) \n",
    "ax = fig.add_subplot(111)\n",
    "mg.plot_bar_graphs(graph1, graph2, wbars, ts, cutoffs, dt, X1, Y1, X2, Y2, W, \n",
    "                   saved_ts, 0, 40, 'migration', ax)\n",
    "ax.set_adjustable(\"box\")\n",
    "ax.axis('equal')\n",
    "fig.tight_layout()"
   ]
  },
  {
   "cell_type": "markdown",
   "metadata": {},
   "source": [
    "#### Color by dimensionless curvature"
   ]
  },
  {
   "cell_type": "code",
   "execution_count": null,
   "metadata": {},
   "outputs": [],
   "source": [
    "# add curvature attribute to bankline graphs (needed for curvature maps)\n",
    "mg.add_curvature_to_line_graph(graph1, smoothing_factor = 21)\n",
    "mg.add_curvature_to_line_graph(graph2, smoothing_factor = 21)"
   ]
  },
  {
   "cell_type": "code",
   "execution_count": null,
   "metadata": {},
   "outputs": [],
   "source": [
    "# plot curvature map\n",
    "fig = plt.figure()\n",
    "ax = fig.add_subplot(111)\n",
    "mg.plot_bar_graphs(graph1, graph2, wbars, ts, cutoffs, dt, X1, Y1, X2, Y2, W, \n",
    "                   saved_ts, 0, 0.8, 'curvature', ax)\n",
    "plt.axis('equal');"
   ]
  },
  {
   "cell_type": "markdown",
   "metadata": {},
   "source": [
    "#### Color by age"
   ]
  },
  {
   "cell_type": "code",
   "execution_count": null,
   "metadata": {},
   "outputs": [],
   "source": [
    "# plot age map\n",
    "fig = plt.figure()\n",
    "ax = fig.add_subplot(111)\n",
    "mg.plot_bar_graphs(graph1, graph2, wbars, ts, cutoffs, dt, X1, Y1, X2, Y2, W, \n",
    "                   saved_ts, 0, ts, 'age', ax)\n",
    "plt.axis('equal');"
   ]
  },
  {
   "cell_type": "markdown",
   "metadata": {},
   "source": [
    "### Plot bar polygons and their numbers"
   ]
  },
  {
   "cell_type": "code",
   "execution_count": null,
   "metadata": {},
   "outputs": [],
   "source": [
    "# plot bar polygons and their numbers\n",
    "fig = plt.figure(figsize = (15, 9))\n",
    "ax = fig.add_subplot(111)\n",
    "for wbar in wbars:\n",
    "    ax.add_patch(PolygonPatch(wbar.polygon))\n",
    "count = 0\n",
    "for wbar in wbars:\n",
    "    ax.text(wbar.polygon.centroid.x, wbar.polygon.centroid.y, str(count), fontsize = 16)\n",
    "    count += 1\n",
    "plt.axis('equal');"
   ]
  },
  {
   "cell_type": "markdown",
   "metadata": {},
   "source": [
    "### Plot migration rate map for one bar"
   ]
  },
  {
   "cell_type": "code",
   "execution_count": null,
   "metadata": {},
   "outputs": [],
   "source": [
    "fig = plt.figure()\n",
    "ax = fig.add_subplot(111)\n",
    "mg.plot_migration_rate_map(wbars[2], graph1, graph2, 0, 40, dt, saved_ts, ax)\n",
    "plt.axis('equal');"
   ]
  },
  {
   "cell_type": "markdown",
   "metadata": {},
   "source": [
    "### Plot curvature map for one bar"
   ]
  },
  {
   "cell_type": "code",
   "execution_count": null,
   "metadata": {},
   "outputs": [],
   "source": [
    "fig = plt.figure()\n",
    "ax = fig.add_subplot(111)\n",
    "mg.plot_curvature_map(wbars[2], 0, 1, W, ax)\n",
    "plt.axis('equal');"
   ]
  },
  {
   "cell_type": "markdown",
   "metadata": {},
   "source": [
    "### Plot age map for one bar"
   ]
  },
  {
   "cell_type": "code",
   "execution_count": null,
   "metadata": {},
   "outputs": [],
   "source": [
    "fig = plt.figure()\n",
    "ax = fig.add_subplot(111)\n",
    "mg.plot_age_map(wbars[2], 0, ts, ax)\n",
    "plt.axis('equal');"
   ]
  },
  {
   "cell_type": "markdown",
   "metadata": {},
   "source": [
    "### Plot radial lines only"
   ]
  },
  {
   "cell_type": "code",
   "execution_count": null,
   "metadata": {},
   "outputs": [],
   "source": [
    "fig = plt.figure()\n",
    "ax = fig.add_subplot(111)\n",
    "path = mg.find_longitudinal_path(graph2, graph2.graph['start_nodes'][0])\n",
    "for node in path:\n",
    "    radial_path, dummy = mg.find_radial_path(graph2, node)\n",
    "    x = graph2.graph['x'][radial_path]\n",
    "    y = graph2.graph['y'][radial_path]\n",
    "    plt.plot(x, y, 'k', linewidth = 0.5)\n",
    "plt.axis('equal');"
   ]
  },
  {
   "cell_type": "markdown",
   "metadata": {},
   "source": [
    "### Create and plot 'simple' polygon graph (with only primary radial lines)"
   ]
  },
  {
   "cell_type": "code",
   "execution_count": null,
   "metadata": {},
   "outputs": [],
   "source": [
    "graph_poly = mg.create_simple_polygon_graph(graph2, X[:ts]) # graph2 is left bank\n",
    "fig = plt.figure()\n",
    "ax = fig.add_subplot(111)\n",
    "mg.plot_simple_polygon_graph(graph_poly, ax, 'left')\n",
    "plt.axis('equal');"
   ]
  },
  {
   "cell_type": "code",
   "execution_count": null,
   "metadata": {},
   "outputs": [],
   "source": [
    "path = mg.find_longitudinal_path(graph, graph2.graph['start_nodes'][0])"
   ]
  },
  {
   "cell_type": "code",
   "execution_count": null,
   "metadata": {},
   "outputs": [],
   "source": [
    "# plot individual polygon 'trajectories'\n",
    "fig = plt.figure()\n",
    "ax = fig.add_subplot(111)\n",
    "for i in range(2, len(path), 5):\n",
    "    radial_path = mg.find_radial_path_2(graph_poly, path[i])\n",
    "    count = 0\n",
    "    bank_type = 'left'\n",
    "    cmap = plt.get_cmap(\"tab10\")\n",
    "    for node in radial_path:\n",
    "        if 'poly' in graph_poly.nodes[node].keys():\n",
    "            if graph_poly.nodes[node]['poly']:\n",
    "                if bank_type == 'left':\n",
    "                    if graph_poly.nodes[node]['direction'] == -1:\n",
    "                        ax.add_patch(PolygonPatch(graph_poly.nodes[node]['poly'], facecolor = cmap(1), edgecolor='k', \n",
    "                                                  linewidth = 0.3, alpha = 0.5, zorder = count))\n",
    "                    if graph_poly.nodes[node]['direction'] == 1:\n",
    "                        ax.add_patch(PolygonPatch(graph_poly.nodes[node]['poly'], facecolor = cmap(0), edgecolor='k', \n",
    "                                                  linewidth = 0.3, alpha = 0.5, zorder = count))\n",
    "        count += 1\n",
    "plt.axis('equal');                    "
   ]
  },
  {
   "cell_type": "markdown",
   "metadata": {},
   "source": [
    "### Create movie frames"
   ]
  },
  {
   "cell_type": "code",
   "execution_count": null,
   "metadata": {
    "jupyter": {
     "outputs_hidden": true
    },
    "scrolled": true
   },
   "outputs": [],
   "source": [
    "# # ts = 50\n",
    "# for ts in range(5, 140):\n",
    "#     graph = mg.create_graph_from_channel_lines(X[:ts], Y[:ts], P[:ts-1], Q[:ts-1], n_points=20, max_dist=100, remove_cutoff_edges=True)\n",
    "#     graph1 = mg.create_graph_from_channel_lines(X1[:ts], Y1[:ts], P1[:ts-1], Q1[:ts-1], n_points=20, max_dist=100, remove_cutoff_edges=True)\n",
    "#     graph2 = mg.create_graph_from_channel_lines(X2[:ts], Y2[:ts], P2[:ts-1], Q2[:ts-1], n_points=20, max_dist=100, remove_cutoff_edges=True)\n",
    "    \n",
    "#     graph = mg.remove_high_density_nodes(graph, min_dist = 10, max_dist = 30)\n",
    "#     graph1 = mg.remove_high_density_nodes(graph1, min_dist = 10, max_dist = 30)\n",
    "#     graph2 = mg.remove_high_density_nodes(graph2, min_dist = 10, max_dist = 30)\n",
    "\n",
    "#     cutoff_area = 0.25*1e6\n",
    "#     fig = plt.figure()\n",
    "#     ax = fig.add_subplot(111)\n",
    "#     scrolls, scroll_ages, all_bars_graph, cutoffs = mg.create_scrolls_and_find_connected_scrolls(graph1, graph2, cutoff_area)\n",
    "#     plt.axis('equal');\n",
    "    \n",
    "#     # create bars and bar graphs:\n",
    "#     wbars, poly_graph_1, poly_graph_2 = mg.create_polygon_graphs_and_bar_graphs(graph1, graph2, all_bars_graph, \n",
    "#                                                                     scrolls, scroll_ages, cutoffs, X1, Y1, ax)\n",
    "#     # add polygon widths and lengths to bar graphs (needed for migration rate maps):\n",
    "#     mg.add_polygon_width_and_length(wbars, graph1, graph2)\n",
    "\n",
    "#     fig = plt.figure(figsize = (12, 12)) \n",
    "#     ax = fig.add_subplot(111)\n",
    "#     mg.plot_bar_graphs(graph1, graph2, wbars, ts, cutoffs, dt, X, Y, W, saved_ts, 0, 40, 'migration', ax)\n",
    "#     ax.set_adjustable(\"box\")\n",
    "#     ax.axis('equal')\n",
    "#     fig.tight_layout()\n",
    "#     ax.set_xlim(xlim)\n",
    "#     ax.set_ylim(ylim)\n",
    "#     fname = 'example_2_'+'%03d.png'%(ts-5)\n",
    "#     fig.savefig(fname, bbox_inches='tight')\n",
    "#     plt.close('all')"
   ]
  },
  {
   "cell_type": "markdown",
   "metadata": {},
   "source": [
    "### Some debugging code"
   ]
  },
  {
   "cell_type": "code",
   "execution_count": null,
   "metadata": {},
   "outputs": [],
   "source": [
    "# code for debugging bar polygons\n",
    "from shapely.geometry import Point\n",
    "\n",
    "def debug_bar_polygons(wbar, line_graph, dt, saved_ts):\n",
    "    fig = plt.figure()\n",
    "    ax = fig.add_subplot(111)\n",
    "    mg.plot_migration_rate_map(wbar, line_graph, vmin=0, vmax=40, dt=dt, saved_ts=saved_ts, ax=ax)\n",
    "    plt.axis('equal');\n",
    "    nodes = []\n",
    "    for node in line_graph.nodes:\n",
    "        point = Point(line_graph.nodes[node]['x'], line_graph.nodes[node]['y'])\n",
    "        if wbar.polygon.contains(point):\n",
    "            nodes.append(node)\n",
    "    for node in nodes:\n",
    "        plt.plot(line_graph.nodes[node]['x'], line_graph.nodes[node]['y'], 'k.')\n",
    "        plt.text(line_graph.nodes[node]['x'], line_graph.nodes[node]['y'], str(node))\n",
    "    return fig\n",
    "\n",
    "def debug_bar_polygons_2(wbar, line_graph, dt, saved_ts):\n",
    "    fig = plt.figure()\n",
    "    ax = fig.add_subplot(111)\n",
    "    mg.plot_migration_rate_map(wbar, line_graph, vmin=0, vmax=40, dt=dt, saved_ts=saved_ts, ax=ax)\n",
    "    plt.axis('equal');\n",
    "    for node in wbar.bar_graph.nodes:\n",
    "        ax.text(wbar.bar_graph.nodes[node]['poly'].centroid.x, wbar.bar_graph.nodes[node]['poly'].centroid.y, str(node))\n",
    "    return fig"
   ]
  },
  {
   "cell_type": "code",
   "execution_count": null,
   "metadata": {},
   "outputs": [],
   "source": [
    "fig = debug_bar_polygons_2(wbars[15], graph1, dt, saved_ts)"
   ]
  }
 ],
 "metadata": {
  "kernelspec": {
   "display_name": "Python 3",
   "language": "python",
   "name": "python3"
  },
  "language_info": {
   "codemirror_mode": {
    "name": "ipython",
    "version": 3
   },
   "file_extension": ".py",
   "mimetype": "text/x-python",
   "name": "python",
   "nbconvert_exporter": "python",
   "pygments_lexer": "ipython3",
   "version": "3.10.4"
  }
 },
 "nbformat": 4,
 "nbformat_minor": 4
}
