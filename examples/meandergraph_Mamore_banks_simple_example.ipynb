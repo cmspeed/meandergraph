{
 "cells": [
  {
   "cell_type": "markdown",
   "metadata": {},
   "source": [
    "### Import stuff"
   ]
  },
  {
   "cell_type": "code",
   "execution_count": 1,
   "metadata": {},
   "outputs": [],
   "source": [
    "import matplotlib.pyplot as plt\n",
    "import matplotlib.cm as cm\n",
    "import numpy as np\n",
    "from scipy.signal import savgol_filter\n",
    "from scipy.spatial import distance\n",
    "from librosa.sequence import dtw\n",
    "from tqdm import trange, tqdm\n",
    "import networkx as nx\n",
    "from shapely.geometry import Polygon, MultiPolygon, Point, MultiLineString, LineString, shape, JOIN_STYLE\n",
    "from shapely.geometry.polygon import LinearRing\n",
    "from shapely.ops import snap, unary_union\n",
    "import geopandas as gpd\n",
    "from glob import glob\n",
    "\n",
    "import sys\n",
    "sys.path.append('../meandergraph/')\n",
    "import meandergraph as mg"
   ]
  },
  {
   "cell_type": "code",
   "execution_count": 2,
   "metadata": {},
   "outputs": [],
   "source": [
    "# Enable automatic module reloading\n",
    "%load_ext autoreload\n",
    "%autoreload 2\n",
    "\n",
    "# Ignore warnings\n",
    "import warnings\n",
    "warnings.filterwarnings('ignore')\n",
    "\n",
    "# Set backend to display mpl plots in separate interactive window\n",
    "%matplotlib qt"
   ]
  },
  {
   "cell_type": "markdown",
   "metadata": {},
   "source": [
    "### Load data"
   ]
  },
  {
   "cell_type": "code",
   "execution_count": 4,
   "metadata": {},
   "outputs": [],
   "source": [
    "lbs = sorted(glob(\"../data/lb*.shp\"))\n",
    "rbs = sorted(glob(\"../data/rb*.shp\"))"
   ]
  },
  {
   "cell_type": "code",
   "execution_count": 5,
   "metadata": {},
   "outputs": [],
   "source": [
    "X1 = []\n",
    "X2 = []\n",
    "Y1 = []\n",
    "Y2 = []\n",
    "for fname in lbs:\n",
    "    lb = gpd.read_file(fname)\n",
    "    X2.append(lb['geometry'][0].xy[0])\n",
    "    Y2.append(lb['geometry'][0].xy[1])\n",
    "for fname in rbs:\n",
    "    rb = gpd.read_file(fname)\n",
    "    X1.append(rb['geometry'][0].xy[0])\n",
    "    Y1.append(rb['geometry'][0].xy[1])"
   ]
  },
  {
   "cell_type": "code",
   "execution_count": 7,
   "metadata": {},
   "outputs": [],
   "source": [
    "# plot banklines\n",
    "plt.figure()\n",
    "for i in range(len(X1)):\n",
    "    plt.plot(X1[i], Y1[i], 'k', linewidth = 0.5)\n",
    "    plt.plot(X2[i], Y2[i], 'b', linewidth = 0.5)\n",
    "plt.axis('equal');"
   ]
  },
  {
   "cell_type": "markdown",
   "metadata": {},
   "source": [
    "### Define segment of interest"
   ]
  },
  {
   "cell_type": "code",
   "execution_count": 8,
   "metadata": {},
   "outputs": [],
   "source": [
    "points = plt.ginput(n=2) \n",
    "# click twice to select start- and endpoints on first bankline (does not matter which one)"
   ]
  },
  {
   "cell_type": "code",
   "execution_count": 9,
   "metadata": {},
   "outputs": [],
   "source": [
    "points = [(286850.39156848995, -1660631.8404876508),\n",
    " (284610.488612104, -1650178.960024516)]"
   ]
  },
  {
   "cell_type": "code",
   "execution_count": 65,
   "metadata": {},
   "outputs": [],
   "source": [
    "from scipy import signal, spatial\n",
    "cl_points = np.vstack((X1[0], Y1[0])).T # coordinates of first centerlines\n",
    "tree = spatial.KDTree(cl_points)\n",
    "\n",
    "plt.figure()\n",
    "for i in range(len(X1)):\n",
    "    plt.plot(X1[i], Y1[i], 'k', linewidth = 0.5)\n",
    "    plt.plot(X2[i], Y2[i], 'b', linewidth = 0.5)\n",
    "plt.axis('equal')\n",
    "plt.plot(X1[0][tree.query(points[0])[1]], Y1[0][tree.query(points[0])[1]], \n",
    "         'ro', zorder=10000)\n",
    "plt.plot(X1[0][tree.query(points[1])[1]], Y1[0][tree.query(points[1])[1]], \n",
    "         'ro', zorder=10000)"
   ]
  },
  {
   "cell_type": "markdown",
   "metadata": {},
   "source": [
    "### Correlate long banklines and create coordinate arrays for segment of interest"
   ]
  },
  {
   "cell_type": "code",
   "execution_count": 64,
   "metadata": {},
   "outputs": [],
   "source": [
    "first_index = tree.query(points[0])[1]\n",
    "last_index = tree.query(points[1])[1]\n",
    "\n",
    "first_channel = 0\n",
    "last_channel = 31\n",
    "\n",
    "# correlate all lines:    \n",
    "P1 = []\n",
    "Q1 = []\n",
    "for i in trange(len(X1) - 1):\n",
    "    p, q = mg.correlate_curves(X1[i], X1[i+1], Y1[i], Y1[i+1])\n",
    "    P1.append(p)\n",
    "    Q1.append(q)\n",
    "\n",
    "# correlate all lines:    \n",
    "P2 = []\n",
    "Q2 = []\n",
    "for i in trange(len(X2) - 1):\n",
    "    p, q = mg.correlate_curves(X2[i], X2[i+1], Y2[i], Y2[i+1])\n",
    "    P2.append(p)\n",
    "    Q2.append(q)\n",
    "    \n",
    "indices1, x, y = mg.find_indices(first_index, X1, Y1, P1, Q1)\n",
    "indices2, x, y = mg.find_indices(last_index, X1, Y1, P1, Q1)\n",
    "for i in range(len(X1)):\n",
    "    X1[i] = X1[i][indices1[i] : indices2[i]+1]\n",
    "    Y1[i] = Y1[i][indices1[i] : indices2[i]+1]\n",
    "\n",
    "indices1, x, y = mg.find_indices(first_index, X2, Y2, P2, Q2)\n",
    "indices2, x, y = mg.find_indices(last_index, X2, Y2, P2, Q2)\n",
    "for i in range(len(X2)):\n",
    "    X2[i] = X2[i][indices1[i] : indices2[i]+1]\n",
    "    Y2[i] = Y2[i][indices1[i] : indices2[i]+1]"
   ]
  },
  {
   "cell_type": "markdown",
   "metadata": {},
   "source": [
    "### Resample and correlate centerlines and banklines"
   ]
  },
  {
   "cell_type": "code",
   "execution_count": 63,
   "metadata": {},
   "outputs": [],
   "source": [
    "# resample centerlines to ds = 2.0 meters:\n",
    "for i in range(len(X1)):\n",
    "    x,y,dx,dy,ds,s = mg.resample_centerline(X1[i], Y1[i], 2.0)\n",
    "    X1[i] = x\n",
    "    Y1[i] = y\n",
    "for i in range(len(X2)):\n",
    "    x,y,dx,dy,ds,s = mg.resample_centerline(X2[i], Y2[i], 2.0)\n",
    "    X2[i] = x\n",
    "    Y2[i] = y\n",
    "\n",
    "P1, Q1 = mg.correlate_set_of_curves(X1, Y1)\n",
    "P2, Q2 = mg.correlate_set_of_curves(X2, Y2)"
   ]
  },
  {
   "cell_type": "code",
   "execution_count": 15,
   "metadata": {},
   "outputs": [],
   "source": [
    "plt.figure()\n",
    "plt.plot(X1[10], Y1[10])\n",
    "plt.plot(X2[10], Y2[10])\n",
    "plt.axis('equal');"
   ]
  },
  {
   "cell_type": "markdown",
   "metadata": {},
   "source": [
    "### Create centerline- and bank graphs"
   ]
  },
  {
   "cell_type": "code",
   "execution_count": 62,
   "metadata": {},
   "outputs": [],
   "source": [
    "ts = len(X1)\n",
    "graph1 = mg.create_graph_from_channel_lines(X1[:ts], Y1[:ts], P1[:ts-1], Q1[:ts-1], n_points=20, max_dist=1000, remove_cutoff_edges=True)\n",
    "graph2 = mg.create_graph_from_channel_lines(X2[:ts], Y2[:ts], P2[:ts-1], Q2[:ts-1], n_points=20, max_dist=1000, remove_cutoff_edges=True)"
   ]
  },
  {
   "cell_type": "code",
   "execution_count": 61,
   "metadata": {},
   "outputs": [],
   "source": [
    "graph1 = mg.remove_high_density_nodes(graph1, min_dist = 20, max_dist = 60)\n",
    "graph2 = mg.remove_high_density_nodes(graph2, min_dist = 20, max_dist = 60)"
   ]
  },
  {
   "cell_type": "markdown",
   "metadata": {},
   "source": [
    "### Plot one of the graphs"
   ]
  },
  {
   "cell_type": "code",
   "execution_count": 18,
   "metadata": {},
   "outputs": [],
   "source": [
    "fig = plt.figure()\n",
    "ax = fig.add_subplot(111)\n",
    "mg.plot_graph(graph2, ax)\n",
    "plt.axis('equal');"
   ]
  },
  {
   "cell_type": "code",
   "execution_count": 382,
   "metadata": {},
   "outputs": [],
   "source": [
    "# save graphs\n",
    "nx.write_gpickle(graph1, \"graph1.gpickle\")\n",
    "nx.write_gpickle(graph2, \"graph2.gpickle\")"
   ]
  },
  {
   "cell_type": "code",
   "execution_count": 60,
   "metadata": {},
   "outputs": [],
   "source": [
    "cutoff_area = 1*1e6\n",
    "\n",
    "fig = plt.figure()\n",
    "ax = fig.add_subplot(111)\n",
    "bars, chs, all_chs, jumps, cutoffs = mg.plot_bars_from_banks(graph1, graph2, cutoff_area, ax)"
   ]
  },
  {
   "cell_type": "markdown",
   "metadata": {},
   "source": [
    "### Create and plot scrolls and bars (connected scrolls)"
   ]
  },
  {
   "cell_type": "code",
   "execution_count": 59,
   "metadata": {},
   "outputs": [],
   "source": [
    "cutoff_area = 1*1e6\n",
    "scrolls, scroll_ages, cutoffs, all_bars_graph = mg.create_scrolls_and_find_connected_scrolls(graph1, graph2, cutoff_area)\n",
    "plt.axis('equal');"
   ]
  },
  {
   "cell_type": "markdown",
   "metadata": {},
   "source": [
    "### Create and plot 'bar graphs', colored by migration rate"
   ]
  },
  {
   "cell_type": "code",
   "execution_count": 58,
   "metadata": {},
   "outputs": [],
   "source": [
    "# create bars and bar graphs\n",
    "min_area = 1000\n",
    "wbars, poly_graph_1, poly_graph_2 = mg.create_polygon_graphs_and_bar_graphs(graph1, graph2, all_bars_graph, \n",
    "                                                    scrolls, scroll_ages, cutoffs, X1, Y1, X2, Y2, min_area)"
   ]
  },
  {
   "cell_type": "code",
   "execution_count": 57,
   "metadata": {},
   "outputs": [],
   "source": [
    "# plot them, using migration rate\n",
    "fig = plt.figure(figsize = (12, 12)) \n",
    "ax = fig.add_subplot(111)\n",
    "mg.plot_bar_graphs(graph1, graph2, wbars, ts, cutoffs, 356*24*60*60, X1, Y1, X2, Y2, 300, 1, -500, 500, 'migration', ax)\n",
    "ax.set_adjustable(\"box\")\n",
    "ax.axis('equal')\n",
    "fig.tight_layout()"
   ]
  },
  {
   "cell_type": "markdown",
   "metadata": {},
   "source": [
    "### Plot bank polygon graphs, colored by age"
   ]
  },
  {
   "cell_type": "code",
   "execution_count": 24,
   "metadata": {},
   "outputs": [],
   "source": [
    "import matplotlib as mpl\n",
    "fig = plt.figure()\n",
    "ax = fig.add_subplot(111)\n",
    "norm = mpl.colors.Normalize(vmin=0, vmax=len(X1))\n",
    "m = mpl.cm.ScalarMappable(norm=norm, cmap='viridis')\n",
    "for node in poly_graph_1.nodes:\n",
    "        poly = poly_graph_1.nodes[node]['poly']\n",
    "        if type(poly) == Polygon:\n",
    "            ax.fill(poly.exterior.xy[0], poly.exterior.xy[1], \n",
    "                facecolor = m.to_rgba(poly_graph_1.nodes[node]['age']), \n",
    "                edgecolor='k', linewidth=0.25, alpha=0.4)\n",
    "plt.axis('equal');"
   ]
  },
  {
   "cell_type": "code",
   "execution_count": 25,
   "metadata": {},
   "outputs": [],
   "source": [
    "import matplotlib as mpl\n",
    "fig = plt.figure()\n",
    "ax = fig.add_subplot(111)\n",
    "norm = mpl.colors.Normalize(vmin=0, vmax=len(X1))\n",
    "m = mpl.cm.ScalarMappable(norm=norm, cmap='viridis')\n",
    "for node in poly_graph_2.nodes:\n",
    "        poly = poly_graph_2.nodes[node]['poly']\n",
    "        if type(poly) == Polygon:\n",
    "            ax.fill(poly.exterior.xy[0], poly.exterior.xy[1], \n",
    "                facecolor = m.to_rgba(poly_graph_2.nodes[node]['age']), \n",
    "                edgecolor='k', linewidth=0.25, alpha=0.4)\n",
    "plt.axis('equal');"
   ]
  },
  {
   "cell_type": "markdown",
   "metadata": {},
   "source": [
    "### Plot bank polygon graphs, colored by migartion rate"
   ]
  },
  {
   "cell_type": "code",
   "execution_count": 56,
   "metadata": {},
   "outputs": [],
   "source": [
    "fig = plt.figure()\n",
    "ax = fig.add_subplot(111)\n",
    "norm = mpl.colors.Normalize(vmin=-100, vmax=100)\n",
    "m = mpl.cm.ScalarMappable(norm=norm, cmap='coolwarm_r')\n",
    "for node in tqdm(poly_graph_2.nodes):\n",
    "        poly = poly_graph_2.nodes[node]['poly']\n",
    "        if type(poly) == Polygon:\n",
    "            ax.fill(poly.exterior.xy[0], poly.exterior.xy[1], \n",
    "                facecolor = m.to_rgba(poly_graph_2.nodes[node]['migr_rate']*poly_graph_2.nodes[node]['direction']), \n",
    "                edgecolor='k', linewidth=0.25, alpha=0.4)\n",
    "plt.axis('equal');"
   ]
  },
  {
   "cell_type": "code",
   "execution_count": 55,
   "metadata": {},
   "outputs": [],
   "source": [
    "fig = plt.figure()\n",
    "ax = fig.add_subplot(111)\n",
    "norm = mpl.colors.Normalize(vmin=-100, vmax=100)\n",
    "m = mpl.cm.ScalarMappable(norm=norm, cmap='coolwarm')\n",
    "for node in tqdm(poly_graph_1.nodes):\n",
    "        poly = poly_graph_1.nodes[node]['poly']\n",
    "        if type(poly) == Polygon:\n",
    "            ax.fill(poly.exterior.xy[0], poly.exterior.xy[1], \n",
    "                facecolor = m.to_rgba(poly_graph_1.nodes[node]['migr_rate']*poly_graph_1.nodes[node]['direction']), \n",
    "                edgecolor='k', linewidth=0.25, alpha=0.4)\n",
    "plt.axis('equal');"
   ]
  },
  {
   "cell_type": "code",
   "execution_count": 54,
   "metadata": {},
   "outputs": [],
   "source": [
    "poly_graph_1.nodes[1000]"
   ]
  },
  {
   "cell_type": "markdown",
   "metadata": {},
   "source": [
    "### Plot radial lines for line graphs"
   ]
  },
  {
   "cell_type": "code",
   "execution_count": 53,
   "metadata": {},
   "outputs": [],
   "source": [
    "fig = plt.figure()\n",
    "ax = fig.add_subplot(111)\n",
    "cmap = plt.get_cmap(\"tab10\")\n",
    "for node in tqdm(graph1.graph['start_nodes']):\n",
    "    path, path_ages = mg.find_radial_path(graph1, node)\n",
    "    for i in range(len(path)-1):\n",
    "        if graph1[path[i]][path[i+1]]['direction'] == 1:   # erosion on the right bank\n",
    "            ax.plot(graph1.graph['x'][[path[i], path[i+1]]], \n",
    "                    graph1.graph['y'][[path[i], path[i+1]]], color=cmap(1))\n",
    "        if graph1[path[i]][path[i+1]]['direction'] == -1:  # deposition on the right bank\n",
    "            ax.plot(graph1.graph['x'][[path[i], path[i+1]]], \n",
    "                    graph1.graph['y'][[path[i], path[i+1]]], color=cmap(0))\n",
    "plt.axis('equal');"
   ]
  },
  {
   "cell_type": "code",
   "execution_count": 31,
   "metadata": {},
   "outputs": [],
   "source": [
    "# add curvature attribute to bankline graphs (needed for curvature maps)\n",
    "mg.add_curvature_to_line_graph(graph1, smoothing_factor = 51)\n",
    "mg.add_curvature_to_line_graph(graph2, smoothing_factor = 51)"
   ]
  },
  {
   "cell_type": "code",
   "execution_count": 52,
   "metadata": {},
   "outputs": [],
   "source": [
    "graph1.nodes[1000]['curv']"
   ]
  },
  {
   "cell_type": "markdown",
   "metadata": {},
   "source": [
    "### Plot migration rate map for one bar"
   ]
  },
  {
   "cell_type": "code",
   "execution_count": 33,
   "metadata": {},
   "outputs": [],
   "source": [
    "fig = plt.figure()\n",
    "ax = fig.add_subplot(111)\n",
    "ax.fill(wbars[2].polygon.exterior.xy[0], wbars[2].polygon.exterior.xy[1])\n",
    "mg.plot_migration_rate_map(wbars[2], graph1, graph2, vmin=-300, vmax=300, dt=365*24*60*60, saved_ts=1, ax=ax)\n",
    "plt.axis('equal');"
   ]
  },
  {
   "cell_type": "markdown",
   "metadata": {},
   "source": [
    "### Plot age map for one bar"
   ]
  },
  {
   "cell_type": "code",
   "execution_count": 36,
   "metadata": {},
   "outputs": [],
   "source": [
    "fig = plt.figure()\n",
    "ax = fig.add_subplot(111)\n",
    "mg.plot_age_map(wbars[1], vmin=0, vmax=ts, ax=ax)\n",
    "plt.axis('equal');"
   ]
  },
  {
   "cell_type": "markdown",
   "metadata": {},
   "source": [
    "### Plot bar polygons and their numbers"
   ]
  },
  {
   "cell_type": "code",
   "execution_count": 48,
   "metadata": {},
   "outputs": [],
   "source": [
    "# plot bar polygons and their numbers\n",
    "fig = plt.figure(figsize = (15, 9))\n",
    "ax = fig.add_subplot(111)\n",
    "for wbar in wbars:\n",
    "   if wbar.polygon.geom_type == 'Polygon':\n",
    "    wbar.add_bank_type() # add bank type\n",
    "    if wbar.bank_type == 'right':\n",
    "        plt.fill(wbar.polygon.exterior.xy[0], wbar.polygon.exterior.xy[1], color='r')\n",
    "    if wbar.bank_type == 'left':\n",
    "        plt.fill(wbar.polygon.exterior.xy[0], wbar.polygon.exterior.xy[1], color='b')\n",
    "    count = 0\n",
    "    for wbar in wbars:\n",
    "        ax.text(wbar.polygon.centroid.x, wbar.polygon.centroid.y, str(count), fontsize = 16)\n",
    "        count += 1\n",
    "plt.axis('equal');"
   ]
  },
  {
   "cell_type": "markdown",
   "metadata": {},
   "source": [
    "### Write shapefile"
   ]
  },
  {
   "cell_type": "code",
   "execution_count": 51,
   "metadata": {},
   "outputs": [],
   "source": [
    "polys = []\n",
    "migr_rates = []\n",
    "directions = []\n",
    "ages = []\n",
    "for node in poly_graph_1.nodes:\n",
    "    polys.append(poly_graph_1.nodes[node]['poly'])\n",
    "    migr_rates.append(poly_graph_1.nodes[node]['migr_rate']*poly_graph_1.nodes[node]['direction'])\n",
    "    directions.append(poly_graph_1.nodes[node]['direction'])\n",
    "    ages.append(poly_graph_1.nodes[node]['age'])\n",
    "gdf = gpd.GeoDataFrame(polys, columns = ['geometry'])\n",
    "gdf['migr_rate'] = migr_rates\n",
    "gdf['direction'] = directions\n",
    "gdf['age'] = ages\n",
    "gdf['area'] = gdf.area\n",
    "gdf.head()"
   ]
  },
  {
   "cell_type": "code",
   "execution_count": 50,
   "metadata": {},
   "outputs": [],
   "source": [
    "gdf.crs = {'init' :'epsg:32620'}"
   ]
  },
  {
   "cell_type": "code",
   "execution_count": 68,
   "metadata": {},
   "outputs": [],
   "source": [
    "gdf.to_file(\"mamore_right_bank.shp\") # write shapefile"
   ]
  }
 ],
 "metadata": {
  "kernelspec": {
   "display_name": "Python 3 (ipykernel)",
   "language": "python",
   "name": "python3"
  },
  "language_info": {
   "codemirror_mode": {
    "name": "ipython",
    "version": 3
   },
   "file_extension": ".py",
   "mimetype": "text/x-python",
   "name": "python",
   "nbconvert_exporter": "python",
   "pygments_lexer": "ipython3",
   "version": "3.10.4"
  }
 },
 "nbformat": 4,
 "nbformat_minor": 4
}
