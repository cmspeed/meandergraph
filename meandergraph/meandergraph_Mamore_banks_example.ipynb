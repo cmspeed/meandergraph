{
 "cells": [
  {
   "cell_type": "markdown",
   "metadata": {},
   "source": [
    "### Import stuff"
   ]
  },
  {
   "cell_type": "markdown",
   "metadata": {},
   "source": [
    "Run this notebook using the 'meanderpy' conda environment."
   ]
  },
  {
   "cell_type": "code",
   "execution_count": 1,
   "metadata": {},
   "outputs": [],
   "source": [
    "import matplotlib.pyplot as plt\n",
    "import matplotlib.cm as cm\n",
    "import numpy as np\n",
    "from scipy.signal import savgol_filter\n",
    "from scipy.spatial import distance\n",
    "from librosa.sequence import dtw\n",
    "from tqdm import trange, tqdm\n",
    "import networkx as nx\n",
    "from descartes import PolygonPatch\n",
    "from shapely.geometry import Polygon, MultiPolygon, Point, MultiLineString, LineString, shape, JOIN_STYLE\n",
    "from shapely.geometry.polygon import LinearRing\n",
    "from shapely.ops import snap, unary_union"
   ]
  },
  {
   "cell_type": "code",
   "execution_count": 2,
   "metadata": {},
   "outputs": [
    {
     "name": "stdout",
     "output_type": "stream",
     "text": [
      "/Users/zoltan/Dropbox/Channels/meanderpy/meanderpy\n"
     ]
    }
   ],
   "source": [
    "cd /Users/zoltan/Dropbox/Channels/meanderpy/meanderpy"
   ]
  },
  {
   "cell_type": "code",
   "execution_count": 3,
   "metadata": {},
   "outputs": [],
   "source": [
    "import meanderpy as mp"
   ]
  },
  {
   "cell_type": "code",
   "execution_count": 20,
   "metadata": {},
   "outputs": [
    {
     "name": "stdout",
     "output_type": "stream",
     "text": [
      "/Users/zoltan/Dropbox/Meandergraph\n"
     ]
    }
   ],
   "source": [
    "cd /Users/zoltan/Dropbox/meandergraph"
   ]
  },
  {
   "cell_type": "code",
   "execution_count": 22,
   "metadata": {},
   "outputs": [],
   "source": [
    "import meandergraph as mg"
   ]
  },
  {
   "cell_type": "code",
   "execution_count": 5,
   "metadata": {},
   "outputs": [],
   "source": [
    "%matplotlib qt"
   ]
  },
  {
   "cell_type": "code",
   "execution_count": 45,
   "metadata": {},
   "outputs": [
    {
     "name": "stdout",
     "output_type": "stream",
     "text": [
      "/Users/zoltan/anaconda3/envs/meanderpy/bin/python\n"
     ]
    }
   ],
   "source": [
    "import sys\n",
    "print(sys.executable)"
   ]
  },
  {
   "cell_type": "code",
   "execution_count": 7,
   "metadata": {},
   "outputs": [],
   "source": [
    "import geopandas as gpd"
   ]
  },
  {
   "cell_type": "code",
   "execution_count": 10,
   "metadata": {},
   "outputs": [],
   "source": [
    "from glob import glob #for finding files that match a certain string pattern\n",
    "lbs = sorted(glob(\"/Users/zoltan/Dropbox/Channels/Fluvial/Mamore_cutoff/new_GIS_data/lb*.shp\"))\n",
    "rbs = sorted(glob(\"/Users/zoltan/Dropbox/Channels/Fluvial/Mamore_cutoff/new_GIS_data/rb*.shp\"))"
   ]
  },
  {
   "cell_type": "code",
   "execution_count": 11,
   "metadata": {},
   "outputs": [],
   "source": [
    "X1 = []\n",
    "X2 = []\n",
    "Y1 = []\n",
    "Y2 = []\n",
    "for fname in lbs:\n",
    "    lb = gpd.read_file(fname)\n",
    "    X2.append(lb['geometry'][0].xy[0])\n",
    "    Y2.append(lb['geometry'][0].xy[1])\n",
    "for fname in rbs:\n",
    "    rb = gpd.read_file(fname)\n",
    "    X1.append(rb['geometry'][0].xy[0])\n",
    "    Y1.append(rb['geometry'][0].xy[1])"
   ]
  },
  {
   "cell_type": "code",
   "execution_count": 74,
   "metadata": {},
   "outputs": [],
   "source": [
    "# plot banklines\n",
    "plt.figure()\n",
    "for i in range(len(X1)):\n",
    "    plt.plot(X1[i], Y1[i], 'k', linewidth = 0.5)\n",
    "    plt.plot(X2[i], Y2[i], 'b', linewidth = 0.5)\n",
    "plt.axis('equal');"
   ]
  },
  {
   "cell_type": "code",
   "execution_count": 38,
   "metadata": {},
   "outputs": [],
   "source": [
    "points = plt.ginput(n=2) \n",
    "# click twice to select start- and endpoints on first bankline (does not matter which one)"
   ]
  },
  {
   "cell_type": "code",
   "execution_count": 14,
   "metadata": {},
   "outputs": [],
   "source": [
    "points = [(286850.39156848995, -1660631.8404876508),\n",
    " (284610.488612104, -1650178.960024516)]"
   ]
  },
  {
   "cell_type": "code",
   "execution_count": 18,
   "metadata": {},
   "outputs": [
    {
     "data": {
      "text/plain": [
       "[<matplotlib.lines.Line2D at 0x7f8c50f47668>]"
      ]
     },
     "execution_count": 18,
     "metadata": {},
     "output_type": "execute_result"
    }
   ],
   "source": [
    "from scipy import signal, spatial\n",
    "cl_points = np.vstack((X1[0], Y1[0])).T # coordinates of first centerlines\n",
    "tree = spatial.KDTree(cl_points)\n",
    "\n",
    "plt.figure()\n",
    "for i in range(len(X1)):\n",
    "    plt.plot(X1[i], Y1[i], 'k', linewidth = 0.5)\n",
    "    plt.plot(X2[i], Y2[i], 'b', linewidth = 0.5)\n",
    "plt.axis('equal')\n",
    "plt.plot(X1[0][tree.query(points[0])[1]], Y1[0][tree.query(points[0])[1]], \n",
    "         'ro', zorder=10000)\n",
    "plt.plot(X1[0][tree.query(points[1])[1]], Y1[0][tree.query(points[1])[1]], \n",
    "         'ro', zorder=10000)"
   ]
  },
  {
   "cell_type": "code",
   "execution_count": 17,
   "metadata": {},
   "outputs": [],
   "source": [
    "import warnings\n",
    "warnings.filterwarnings('ignore')"
   ]
  },
  {
   "cell_type": "code",
   "execution_count": 23,
   "metadata": {},
   "outputs": [
    {
     "name": "stderr",
     "output_type": "stream",
     "text": [
      "100%|██████████| 30/30 [04:37<00:00,  9.24s/it]\n",
      "100%|██████████| 30/30 [04:34<00:00,  9.15s/it]\n"
     ]
    }
   ],
   "source": [
    "first_index = tree.query(points[0])[1]\n",
    "last_index = tree.query(points[1])[1]\n",
    "\n",
    "first_channel = 0\n",
    "last_channel = 31\n",
    "\n",
    "# correlate all lines:    \n",
    "P1 = []\n",
    "Q1 = []\n",
    "for i in trange(len(X1) - 1):\n",
    "    p, q = mg.correlate_curves(X1[i], X1[i+1], Y1[i], Y1[i+1])\n",
    "    P1.append(p)\n",
    "    Q1.append(q)\n",
    "\n",
    "# correlate all lines:    \n",
    "P2 = []\n",
    "Q2 = []\n",
    "for i in trange(len(X2) - 1):\n",
    "    p, q = mg.correlate_curves(X2[i], X2[i+1], Y2[i], Y2[i+1])\n",
    "    P2.append(p)\n",
    "    Q2.append(q)\n",
    "    \n",
    "indices1, x, y = mg.find_indices(first_index, X1, Y1, P1, Q1)\n",
    "indices2, x, y = mg.find_indices(last_index, X1, Y1, P1, Q1)\n",
    "for i in range(len(X1)):\n",
    "    X1[i] = X1[i][indices1[i] : indices2[i]+1]\n",
    "    Y1[i] = Y1[i][indices1[i] : indices2[i]+1]\n",
    "\n",
    "indices1, x, y = mg.find_indices(first_index, X2, Y2, P2, Q2)\n",
    "indices2, x, y = mg.find_indices(last_index, X2, Y2, P2, Q2)\n",
    "for i in range(len(X2)):\n",
    "    X2[i] = X2[i][indices1[i] : indices2[i]+1]\n",
    "    Y2[i] = Y2[i][indices1[i] : indices2[i]+1]"
   ]
  },
  {
   "cell_type": "markdown",
   "metadata": {},
   "source": [
    "### Resample and correlate centerlines and banklines"
   ]
  },
  {
   "cell_type": "code",
   "execution_count": 26,
   "metadata": {},
   "outputs": [
    {
     "name": "stderr",
     "output_type": "stream",
     "text": [
      "100%|██████████| 30/30 [02:23<00:00,  4.78s/it]\n",
      "100%|██████████| 30/30 [02:26<00:00,  4.89s/it]\n"
     ]
    }
   ],
   "source": [
    "# create Z coordinates - just a bunch of zeros -- needed for resampling function in meanderpy:\n",
    "Z1 = []\n",
    "for i in range(len(X1)):\n",
    "    Z1.append(np.zeros(np.shape(X1[i])))\n",
    "Z2 = []\n",
    "for i in range(len(X2)):\n",
    "    Z2.append(np.zeros(np.shape(X2[i])))\n",
    "\n",
    "# resample centerlines to ds = 2.0 meters:\n",
    "for i in range(len(X1)):\n",
    "    x,y,z,dx,dy,dz,ds,s = mp.resample_centerline(X1[i], Y1[i], Z1[i], 2.0)\n",
    "    X1[i] = x\n",
    "    Y1[i] = y\n",
    "for i in range(len(X2)):\n",
    "    x,y,z,dx,dy,dz,ds,s = mp.resample_centerline(X2[i], Y2[i], Z2[i], 2.0)\n",
    "    X2[i] = x\n",
    "    Y2[i] = y\n",
    "\n",
    "P1, Q1 = mg.correlate_set_of_curves(X1, Y1)\n",
    "P2, Q2 = mg.correlate_set_of_curves(X2, Y2)"
   ]
  },
  {
   "cell_type": "code",
   "execution_count": 47,
   "metadata": {},
   "outputs": [],
   "source": [
    "plt.figure()\n",
    "plt.plot(X1[10], Y1[10])\n",
    "plt.plot(X2[10], Y2[10])\n",
    "plt.axis('equal');"
   ]
  },
  {
   "cell_type": "code",
   "execution_count": 39,
   "metadata": {},
   "outputs": [
    {
     "data": {
      "text/plain": [
       "<module 'meandergraph' from '/Users/zoltan/Dropbox/Meandergraph/meandergraph/meandergraph.py'>"
      ]
     },
     "execution_count": 39,
     "metadata": {},
     "output_type": "execute_result"
    }
   ],
   "source": [
    "from importlib import reload\n",
    "reload(mg)"
   ]
  },
  {
   "cell_type": "markdown",
   "metadata": {},
   "source": [
    "### Create centerline- and bank graphs"
   ]
  },
  {
   "cell_type": "code",
   "execution_count": 51,
   "metadata": {},
   "outputs": [
    {
     "name": "stderr",
     "output_type": "stream",
     "text": [
      "100%|██████████| 30/30 [00:00<00:00, 154.13it/s]\n",
      "100%|██████████| 620/620 [00:00<00:00, 5178.67it/s]\n",
      "100%|██████████| 31/31 [00:00<00:00, 451.95it/s]\n",
      "100%|██████████| 30/30 [00:00<00:00, 189.10it/s]\n",
      "100%|██████████| 647/647 [00:00<00:00, 5380.36it/s]\n",
      "100%|██████████| 31/31 [00:00<00:00, 444.14it/s]\n"
     ]
    }
   ],
   "source": [
    "# reload(mg)\n",
    "ts = len(X1)\n",
    "# graph = mg.create_graph_from_channel_lines(X[:ts], Y[:ts], P[:ts-1], Q[:ts-1], n_points=20, max_dist=100, remove_cutoff_edges=True)\n",
    "graph1 = mg.create_graph_from_channel_lines(X1[:ts], Y1[:ts], P1[:ts-1], Q1[:ts-1], n_points=20, max_dist=1000, remove_cutoff_edges=True)\n",
    "graph2 = mg.create_graph_from_channel_lines(X2[:ts], Y2[:ts], P2[:ts-1], Q2[:ts-1], n_points=20, max_dist=1000, remove_cutoff_edges=True)"
   ]
  },
  {
   "cell_type": "code",
   "execution_count": 52,
   "metadata": {},
   "outputs": [
    {
     "name": "stderr",
     "output_type": "stream",
     "text": [
      "100%|██████████| 31/31 [00:00<00:00, 90.25it/s] \n",
      "100%|██████████| 31/31 [00:00<00:00, 83.40it/s]\n"
     ]
    }
   ],
   "source": [
    "# graph = mg.remove_high_density_nodes(graph, min_dist = 10, max_dist = 30)\n",
    "graph1 = mg.remove_high_density_nodes(graph1, min_dist = 20, max_dist = 60)\n",
    "graph2 = mg.remove_high_density_nodes(graph2, min_dist = 20, max_dist = 60)"
   ]
  },
  {
   "cell_type": "markdown",
   "metadata": {},
   "source": [
    "### Plot one of the graphs"
   ]
  },
  {
   "cell_type": "code",
   "execution_count": 53,
   "metadata": {},
   "outputs": [],
   "source": [
    "fig = plt.figure()\n",
    "ax = fig.add_subplot(111)\n",
    "mg.plot_graph(graph2, ax)\n",
    "plt.axis('equal');"
   ]
  },
  {
   "cell_type": "code",
   "execution_count": 382,
   "metadata": {},
   "outputs": [],
   "source": [
    "# save graphs\n",
    "nx.write_gpickle(graph1, \"graph1.gpickle\")\n",
    "nx.write_gpickle(graph2, \"graph2.gpickle\")"
   ]
  },
  {
   "cell_type": "markdown",
   "metadata": {},
   "source": [
    "### Create and plot scrolls and bars (connected scrolls)"
   ]
  },
  {
   "cell_type": "code",
   "execution_count": 54,
   "metadata": {},
   "outputs": [
    {
     "name": "stderr",
     "output_type": "stream",
     "text": [
      "100%|██████████| 30/30 [00:00<00:00, 107.67it/s]\n",
      "100%|██████████| 31/31 [00:00<00:00, 1207.62it/s]\n",
      "100%|██████████| 31/31 [00:00<00:00, 113.10it/s]\n",
      "100%|██████████| 30/30 [00:00<00:00, 35.12it/s]\n",
      "100%|██████████| 30/30 [00:00<00:00, 38.82it/s]\n",
      "100%|██████████| 30/30 [00:00<00:00, 40.25it/s]\n",
      "100%|██████████| 30/30 [00:00<00:00, 41.82it/s]\n",
      "100%|██████████| 30/30 [00:00<00:00, 42.94it/s]\n",
      "100%|██████████| 30/30 [00:00<00:00, 42.45it/s]\n",
      "100%|██████████| 30/30 [00:00<00:00, 39.78it/s]\n",
      "100%|██████████| 30/30 [00:00<00:00, 41.20it/s]\n",
      "100%|██████████| 30/30 [00:00<00:00, 42.40it/s]\n"
     ]
    }
   ],
   "source": [
    "# reload(mg)\n",
    "cutoff_area = 1*1e6\n",
    "fig = plt.figure()\n",
    "ax = fig.add_subplot(111)\n",
    "scrolls, scroll_ages, cutoffs, all_bars_graph = mg.create_scrolls_and_find_connected_scrolls(graph1, graph2, cutoff_area, ax)\n",
    "plt.axis('equal');"
   ]
  },
  {
   "cell_type": "markdown",
   "metadata": {},
   "source": [
    "### Create and plot 'bar graphs', colored by migration rate"
   ]
  },
  {
   "cell_type": "code",
   "execution_count": 55,
   "metadata": {},
   "outputs": [
    {
     "name": "stderr",
     "output_type": "stream",
     "text": [
      "100%|██████████| 30/30 [00:02<00:00, 11.38it/s]\n",
      "100%|██████████| 30/30 [00:02<00:00, 13.59it/s]\n",
      "100%|██████████| 13/13 [00:04<00:00,  2.92it/s]\n"
     ]
    }
   ],
   "source": [
    "# create bars and bar graphs\n",
    "min_area = 1000\n",
    "wbars, poly_graph_1, poly_graph_2 = mg.create_polygon_graphs_and_bar_graphs(graph1, graph2, all_bars_graph, \n",
    "                                                                scrolls, scroll_ages, cutoffs, X1, Y1, X2, Y2, min_area, ax)"
   ]
  },
  {
   "cell_type": "code",
   "execution_count": 56,
   "metadata": {},
   "outputs": [
    {
     "name": "stderr",
     "output_type": "stream",
     "text": [
      "100%|██████████| 13/13 [00:03<00:00,  4.00it/s]\n"
     ]
    }
   ],
   "source": [
    "# plot them, using migration rate\n",
    "fig = plt.figure(figsize = (12, 12)) \n",
    "ax = fig.add_subplot(111)\n",
    "mg.plot_bar_graphs(graph1, graph2, wbars, ts, cutoffs, 356*24*60*60, X1, Y1, X2, Y2, 300, 1, 0, 500, 'migration', ax)\n",
    "ax.set_adjustable(\"box\")\n",
    "ax.axis('equal')\n",
    "fig.tight_layout()\n",
    "\n",
    "# ax.plot(X1[ts-1], Y1[ts-1], 'r') # this is needed because Adobe Illustrator does not like the most recent channel polygon\n",
    "# ax.plot(X2[ts-1], Y2[ts-1], 'r')"
   ]
  },
  {
   "cell_type": "code",
   "execution_count": 57,
   "metadata": {},
   "outputs": [],
   "source": [
    "# plot one of the polygon graphs\n",
    "fig = plt.figure()\n",
    "ax = fig.add_subplot(111)\n",
    "for node in poly_graph_1.nodes:\n",
    "    poly = poly_graph_1.nodes[node]['poly']\n",
    "    ax.add_patch(PolygonPatch(poly, alpha=0.5))\n",
    "plt.axis('equal');"
   ]
  },
  {
   "cell_type": "code",
   "execution_count": 58,
   "metadata": {},
   "outputs": [],
   "source": [
    "# add curvature attribute to bankline graphs (needed for curvature maps)\n",
    "mg.add_curvature_to_line_graph(graph1, smoothing_factor = 51)\n",
    "mg.add_curvature_to_line_graph(graph2, smoothing_factor = 51)"
   ]
  },
  {
   "cell_type": "markdown",
   "metadata": {},
   "source": [
    "### Plot migration rate map for one bar"
   ]
  },
  {
   "cell_type": "code",
   "execution_count": 61,
   "metadata": {},
   "outputs": [],
   "source": [
    "reload(mg)\n",
    "fig = plt.figure()\n",
    "ax = fig.add_subplot(111)\n",
    "ax.add_patch(PolygonPatch(wbars[2].polygon))\n",
    "mg.plot_migration_rate_map(wbars[2], graph1, graph2, vmin=0, vmax=300, dt=365*24*60*60, saved_ts=1, ax=ax)\n",
    "plt.axis('equal');"
   ]
  },
  {
   "cell_type": "markdown",
   "metadata": {},
   "source": [
    "### Plot age map for one bar"
   ]
  },
  {
   "cell_type": "code",
   "execution_count": 64,
   "metadata": {},
   "outputs": [],
   "source": [
    "fig = plt.figure()\n",
    "ax = fig.add_subplot(111)\n",
    "mg.plot_age_map(wbars[2], vmin=0, vmax=ts, ax=ax)\n",
    "plt.axis('equal');"
   ]
  },
  {
   "cell_type": "markdown",
   "metadata": {},
   "source": [
    "### Plot bar polygons and their numbers"
   ]
  },
  {
   "cell_type": "code",
   "execution_count": 65,
   "metadata": {},
   "outputs": [],
   "source": [
    "# plot bar polygons and their numbers\n",
    "fig = plt.figure(figsize = (15, 9))\n",
    "ax = fig.add_subplot(111)\n",
    "for wbar in wbars:\n",
    "    ax.add_patch(PolygonPatch(wbar.polygon))\n",
    "count = 0\n",
    "for wbar in wbars:\n",
    "    ax.text(wbar.polygon.centroid.x, wbar.polygon.centroid.y, str(count), fontsize = 16)\n",
    "    count += 1\n",
    "plt.axis('equal');"
   ]
  },
  {
   "cell_type": "markdown",
   "metadata": {},
   "source": [
    "### Some debugging code"
   ]
  },
  {
   "cell_type": "code",
   "execution_count": 67,
   "metadata": {},
   "outputs": [],
   "source": [
    "# code for debugging bar polygons\n",
    "from shapely.geometry import Point\n",
    "\n",
    "def debug_bar_polygons(wbar, graph1, graph2, dt, saved_ts, ax):\n",
    "    mg.plot_migration_rate_map(wbar, graph1, graph2, vmin=0, vmax=40, dt=dt, saved_ts=saved_ts, ax=ax)\n",
    "    plt.axis('equal');\n",
    "    nodes = []\n",
    "    if wbar.scrolls[-1].bank == 'right':\n",
    "        line_graph = graph1\n",
    "    else:\n",
    "        line_graph = graph2\n",
    "    for node in line_graph.nodes:\n",
    "        point = Point(line_graph.nodes[node]['x'], line_graph.nodes[node]['y'])\n",
    "        if wbar.polygon.contains(point):\n",
    "            nodes.append(node)\n",
    "    for node in nodes:\n",
    "        plt.plot(line_graph.nodes[node]['x'], line_graph.nodes[node]['y'], 'k.')\n",
    "        plt.text(line_graph.nodes[node]['x'], line_graph.nodes[node]['y'], str(node))\n",
    "\n",
    "def debug_bar_polygons_2(wbar, graph1, graph2, dt, saved_ts, ax):\n",
    "    mg.plot_migration_rate_map(wbar, graph1, graph2, vmin=0, vmax=300, dt=dt, saved_ts=saved_ts, ax=ax)\n",
    "    plt.axis('equal');\n",
    "    for node in wbar.bar_graph.nodes:\n",
    "        ax.text(wbar.bar_graph.nodes[node]['poly'].centroid.x, wbar.bar_graph.nodes[node]['poly'].centroid.y, str(node))"
   ]
  },
  {
   "cell_type": "code",
   "execution_count": 68,
   "metadata": {},
   "outputs": [],
   "source": [
    "dt=365*24*60*60\n",
    "saved_ts = 1\n",
    "fig = plt.figure()\n",
    "ax = fig.add_subplot(111)\n",
    "mg.plot_graph(graph2, ax)\n",
    "fig = debug_bar_polygons_2(wbars[10], graph1, graph2, dt, saved_ts, ax)\n",
    "# debug_bar_polygons(wbars[10], graph1, graph2, dt, saved_ts, ax)\n"
   ]
  },
  {
   "cell_type": "markdown",
   "metadata": {},
   "source": [
    "### Plot radial lines only"
   ]
  },
  {
   "cell_type": "code",
   "execution_count": 70,
   "metadata": {},
   "outputs": [],
   "source": [
    "fig = plt.figure()\n",
    "ax = fig.add_subplot(111)\n",
    "path = mg.find_longitudinal_path(graph2, graph2.graph['start_nodes'][0])\n",
    "for node in path:\n",
    "    radial_path, dummy = mg.find_radial_path(graph2, node)\n",
    "    x = graph2.graph['x'][radial_path]\n",
    "    y = graph2.graph['y'][radial_path]\n",
    "    plt.plot(x, y, 'k', linewidth = 0.5)\n",
    "plt.axis('equal');"
   ]
  },
  {
   "cell_type": "markdown",
   "metadata": {},
   "source": [
    "### Create and plot 'simple' polygon graph (with only primary radial lines)"
   ]
  },
  {
   "cell_type": "code",
   "execution_count": 71,
   "metadata": {},
   "outputs": [
    {
     "name": "stderr",
     "output_type": "stream",
     "text": [
      "100%|██████████| 31/31 [00:02<00:00, 13.98it/s]\n",
      "100%|██████████| 403/403 [00:04<00:00, 99.81it/s] \n"
     ]
    }
   ],
   "source": [
    "graph_poly = mg.create_simple_polygon_graph(graph2, X1[:ts]) # graph2 is left bank\n",
    "fig = plt.figure()\n",
    "ax = fig.add_subplot(111)\n",
    "mg.plot_simple_polygon_graph(graph_poly, ax, 'left')\n",
    "plt.axis('equal');"
   ]
  },
  {
   "cell_type": "code",
   "execution_count": 274,
   "metadata": {},
   "outputs": [],
   "source": [
    "path = mg.find_longitudinal_path(graph, graph2.graph['start_nodes'][0])"
   ]
  },
  {
   "cell_type": "code",
   "execution_count": 72,
   "metadata": {},
   "outputs": [],
   "source": [
    "# plot individual polygon 'trajectories'\n",
    "fig = plt.figure()\n",
    "ax = fig.add_subplot(111)\n",
    "for i in range(2, len(path), 5):\n",
    "    radial_path = mg.find_radial_path_2(graph_poly, path[i])\n",
    "    count = 0\n",
    "    bank_type = 'left'\n",
    "    cmap = plt.get_cmap(\"tab10\")\n",
    "    for node in radial_path:\n",
    "        if 'poly' in graph_poly.nodes[node].keys():\n",
    "            if graph_poly.nodes[node]['poly']:\n",
    "                if bank_type == 'left':\n",
    "                    if graph_poly.nodes[node]['direction'] == -1:\n",
    "                        ax.add_patch(PolygonPatch(graph_poly.nodes[node]['poly'], facecolor = cmap(1), edgecolor='k', \n",
    "                                                  linewidth = 0.3, alpha = 0.5, zorder = count))\n",
    "                    if graph_poly.nodes[node]['direction'] == 1:\n",
    "                        ax.add_patch(PolygonPatch(graph_poly.nodes[node]['poly'], facecolor = cmap(0), edgecolor='k', \n",
    "                                                  linewidth = 0.3, alpha = 0.5, zorder = count))\n",
    "        count += 1\n",
    "plt.axis('equal');                    "
   ]
  }
 ],
 "metadata": {
  "kernelspec": {
   "display_name": "Python 3",
   "language": "python",
   "name": "python3"
  },
  "language_info": {
   "codemirror_mode": {
    "name": "ipython",
    "version": 3
   },
   "file_extension": ".py",
   "mimetype": "text/x-python",
   "name": "python",
   "nbconvert_exporter": "python",
   "pygments_lexer": "ipython3",
   "version": "3.7.3"
  }
 },
 "nbformat": 4,
 "nbformat_minor": 4
}
