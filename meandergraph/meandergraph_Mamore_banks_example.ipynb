{
 "cells": [
  {
   "cell_type": "markdown",
   "metadata": {},
   "source": [
    "### Import stuff"
   ]
  },
  {
   "cell_type": "markdown",
   "metadata": {},
   "source": [
    "Run this notebook using the 'meanderpy' conda environment."
   ]
  },
  {
   "cell_type": "code",
   "execution_count": 527,
   "metadata": {},
   "outputs": [],
   "source": [
    "import matplotlib.pyplot as plt\n",
    "import matplotlib.cm as cm\n",
    "import numpy as np\n",
    "from scipy.signal import savgol_filter\n",
    "from scipy.spatial import distance\n",
    "from librosa.sequence import dtw\n",
    "from tqdm import trange, tqdm\n",
    "import networkx as nx\n",
    "from shapely.geometry import Polygon, MultiPolygon, Point, MultiLineString, LineString, shape, JOIN_STYLE\n",
    "from shapely.geometry.polygon import LinearRing\n",
    "from shapely.ops import snap, unary_union"
   ]
  },
  {
   "cell_type": "code",
   "execution_count": 518,
   "metadata": {},
   "outputs": [
    {
     "name": "stdout",
     "output_type": "stream",
     "text": [
      "/Users/zoltan/mambaforge/envs/meanderpy/bin/jupyter\r\n"
     ]
    }
   ],
   "source": [
    "!which jupyter"
   ]
  },
  {
   "cell_type": "code",
   "execution_count": 3,
   "metadata": {},
   "outputs": [
    {
     "name": "stdout",
     "output_type": "stream",
     "text": [
      "/Users/zoltan/Dropbox/Channels/meanderpy/meanderpy\n"
     ]
    }
   ],
   "source": [
    "cd /Users/zoltan/Dropbox/Channels/meanderpy/meanderpy"
   ]
  },
  {
   "cell_type": "code",
   "execution_count": 5,
   "metadata": {},
   "outputs": [],
   "source": [
    "import meanderpy as mp"
   ]
  },
  {
   "cell_type": "code",
   "execution_count": 6,
   "metadata": {},
   "outputs": [
    {
     "name": "stdout",
     "output_type": "stream",
     "text": [
      "/Users/zoltan/Dropbox/Meandergraph\n"
     ]
    }
   ],
   "source": [
    "cd /Users/zoltan/Dropbox/meandergraph"
   ]
  },
  {
   "cell_type": "code",
   "execution_count": 7,
   "metadata": {},
   "outputs": [],
   "source": [
    "import meandergraph as mg"
   ]
  },
  {
   "cell_type": "code",
   "execution_count": 8,
   "metadata": {},
   "outputs": [],
   "source": [
    "%matplotlib qt"
   ]
  },
  {
   "cell_type": "code",
   "execution_count": 9,
   "metadata": {},
   "outputs": [
    {
     "name": "stdout",
     "output_type": "stream",
     "text": [
      "/Users/zoltan/mambaforge/envs/meanderpy/bin/python\n"
     ]
    }
   ],
   "source": [
    "import sys\n",
    "print(sys.executable)"
   ]
  },
  {
   "cell_type": "code",
   "execution_count": 10,
   "metadata": {},
   "outputs": [],
   "source": [
    "import geopandas as gpd"
   ]
  },
  {
   "cell_type": "code",
   "execution_count": 11,
   "metadata": {},
   "outputs": [],
   "source": [
    "from glob import glob #for finding files that match a certain string pattern\n",
    "lbs = sorted(glob(\"/Users/zoltan/Dropbox/Channels/Fluvial/Mamore_cutoff/new_GIS_data/lb*.shp\"))\n",
    "rbs = sorted(glob(\"/Users/zoltan/Dropbox/Channels/Fluvial/Mamore_cutoff/new_GIS_data/rb*.shp\"))"
   ]
  },
  {
   "cell_type": "code",
   "execution_count": 491,
   "metadata": {},
   "outputs": [
    {
     "data": {
      "text/plain": [
       "['/Users/zoltan/Dropbox/Channels/Fluvial/Mamore_cutoff/new_GIS_data/lb_1986.shp',\n",
       " '/Users/zoltan/Dropbox/Channels/Fluvial/Mamore_cutoff/new_GIS_data/lb_1987.shp',\n",
       " '/Users/zoltan/Dropbox/Channels/Fluvial/Mamore_cutoff/new_GIS_data/lb_1988.shp',\n",
       " '/Users/zoltan/Dropbox/Channels/Fluvial/Mamore_cutoff/new_GIS_data/lb_1989.shp',\n",
       " '/Users/zoltan/Dropbox/Channels/Fluvial/Mamore_cutoff/new_GIS_data/lb_1990.shp',\n",
       " '/Users/zoltan/Dropbox/Channels/Fluvial/Mamore_cutoff/new_GIS_data/lb_1991.shp',\n",
       " '/Users/zoltan/Dropbox/Channels/Fluvial/Mamore_cutoff/new_GIS_data/lb_1992.shp',\n",
       " '/Users/zoltan/Dropbox/Channels/Fluvial/Mamore_cutoff/new_GIS_data/lb_1993.shp',\n",
       " '/Users/zoltan/Dropbox/Channels/Fluvial/Mamore_cutoff/new_GIS_data/lb_1994.shp',\n",
       " '/Users/zoltan/Dropbox/Channels/Fluvial/Mamore_cutoff/new_GIS_data/lb_1995.shp',\n",
       " '/Users/zoltan/Dropbox/Channels/Fluvial/Mamore_cutoff/new_GIS_data/lb_1996.shp',\n",
       " '/Users/zoltan/Dropbox/Channels/Fluvial/Mamore_cutoff/new_GIS_data/lb_1997.shp',\n",
       " '/Users/zoltan/Dropbox/Channels/Fluvial/Mamore_cutoff/new_GIS_data/lb_1998.shp',\n",
       " '/Users/zoltan/Dropbox/Channels/Fluvial/Mamore_cutoff/new_GIS_data/lb_1999.shp',\n",
       " '/Users/zoltan/Dropbox/Channels/Fluvial/Mamore_cutoff/new_GIS_data/lb_2000.shp',\n",
       " '/Users/zoltan/Dropbox/Channels/Fluvial/Mamore_cutoff/new_GIS_data/lb_2001.shp',\n",
       " '/Users/zoltan/Dropbox/Channels/Fluvial/Mamore_cutoff/new_GIS_data/lb_2003.shp',\n",
       " '/Users/zoltan/Dropbox/Channels/Fluvial/Mamore_cutoff/new_GIS_data/lb_2004.shp',\n",
       " '/Users/zoltan/Dropbox/Channels/Fluvial/Mamore_cutoff/new_GIS_data/lb_2005.shp',\n",
       " '/Users/zoltan/Dropbox/Channels/Fluvial/Mamore_cutoff/new_GIS_data/lb_2006.shp',\n",
       " '/Users/zoltan/Dropbox/Channels/Fluvial/Mamore_cutoff/new_GIS_data/lb_2007.shp',\n",
       " '/Users/zoltan/Dropbox/Channels/Fluvial/Mamore_cutoff/new_GIS_data/lb_2008.shp',\n",
       " '/Users/zoltan/Dropbox/Channels/Fluvial/Mamore_cutoff/new_GIS_data/lb_2009.shp',\n",
       " '/Users/zoltan/Dropbox/Channels/Fluvial/Mamore_cutoff/new_GIS_data/lb_2010.shp',\n",
       " '/Users/zoltan/Dropbox/Channels/Fluvial/Mamore_cutoff/new_GIS_data/lb_2011.shp',\n",
       " '/Users/zoltan/Dropbox/Channels/Fluvial/Mamore_cutoff/new_GIS_data/lb_2013.shp',\n",
       " '/Users/zoltan/Dropbox/Channels/Fluvial/Mamore_cutoff/new_GIS_data/lb_2014.shp',\n",
       " '/Users/zoltan/Dropbox/Channels/Fluvial/Mamore_cutoff/new_GIS_data/lb_2015.shp',\n",
       " '/Users/zoltan/Dropbox/Channels/Fluvial/Mamore_cutoff/new_GIS_data/lb_2016.shp',\n",
       " '/Users/zoltan/Dropbox/Channels/Fluvial/Mamore_cutoff/new_GIS_data/lb_2017.shp',\n",
       " '/Users/zoltan/Dropbox/Channels/Fluvial/Mamore_cutoff/new_GIS_data/lb_2018.shp']"
      ]
     },
     "execution_count": 491,
     "metadata": {},
     "output_type": "execute_result"
    }
   ],
   "source": [
    "lbs"
   ]
  },
  {
   "cell_type": "code",
   "execution_count": 56,
   "metadata": {},
   "outputs": [],
   "source": [
    "X1 = []\n",
    "X2 = []\n",
    "Y1 = []\n",
    "Y2 = []\n",
    "for fname in lbs:\n",
    "    lb = gpd.read_file(fname)\n",
    "    X2.append(lb['geometry'][0].xy[0])\n",
    "    Y2.append(lb['geometry'][0].xy[1])\n",
    "for fname in rbs:\n",
    "    rb = gpd.read_file(fname)\n",
    "    X1.append(rb['geometry'][0].xy[0])\n",
    "    Y1.append(rb['geometry'][0].xy[1])"
   ]
  },
  {
   "cell_type": "code",
   "execution_count": 57,
   "metadata": {},
   "outputs": [],
   "source": [
    "# plot banklines\n",
    "plt.figure()\n",
    "for i in range(len(X1)):\n",
    "    plt.plot(X1[i], Y1[i], 'k', linewidth = 0.5)\n",
    "    plt.plot(X2[i], Y2[i], 'b', linewidth = 0.5)\n",
    "plt.axis('equal');"
   ]
  },
  {
   "cell_type": "code",
   "execution_count": 58,
   "metadata": {},
   "outputs": [],
   "source": [
    "points = plt.ginput(n=2) \n",
    "# click twice to select start- and endpoints on first bankline (does not matter which one)"
   ]
  },
  {
   "cell_type": "code",
   "execution_count": 59,
   "metadata": {},
   "outputs": [
    {
     "data": {
      "text/plain": [
       "[(281080.33683424315, -1669875.1764392515),\n",
       " (285412.3847311827, -1649967.2259915178)]"
      ]
     },
     "execution_count": 59,
     "metadata": {},
     "output_type": "execute_result"
    }
   ],
   "source": [
    "points"
   ]
  },
  {
   "cell_type": "code",
   "execution_count": 14,
   "metadata": {},
   "outputs": [],
   "source": [
    "points = [(286850.39156848995, -1660631.8404876508),\n",
    " (284610.488612104, -1650178.960024516)]"
   ]
  },
  {
   "cell_type": "code",
   "execution_count": 60,
   "metadata": {},
   "outputs": [
    {
     "data": {
      "text/plain": [
       "[<matplotlib.lines.Line2D at 0x42bfb2450>]"
      ]
     },
     "execution_count": 60,
     "metadata": {},
     "output_type": "execute_result"
    }
   ],
   "source": [
    "from scipy import signal, spatial\n",
    "cl_points = np.vstack((X1[0], Y1[0])).T # coordinates of first centerlines\n",
    "tree = spatial.KDTree(cl_points)\n",
    "\n",
    "plt.figure()\n",
    "for i in range(len(X1)):\n",
    "    plt.plot(X1[i], Y1[i], 'k', linewidth = 0.5)\n",
    "    plt.plot(X2[i], Y2[i], 'b', linewidth = 0.5)\n",
    "plt.axis('equal')\n",
    "plt.plot(X1[0][tree.query(points[0])[1]], Y1[0][tree.query(points[0])[1]], \n",
    "         'ro', zorder=10000)\n",
    "plt.plot(X1[0][tree.query(points[1])[1]], Y1[0][tree.query(points[1])[1]], \n",
    "         'ro', zorder=10000)"
   ]
  },
  {
   "cell_type": "code",
   "execution_count": 16,
   "metadata": {},
   "outputs": [],
   "source": [
    "import warnings\n",
    "warnings.filterwarnings('ignore')"
   ]
  },
  {
   "cell_type": "code",
   "execution_count": 61,
   "metadata": {},
   "outputs": [
    {
     "name": "stderr",
     "output_type": "stream",
     "text": [
      "100%|█████████████████████████████████████████████████████████████████████████████████████████████████████████| 30/30 [00:49<00:00,  1.66s/it]\n",
      "100%|█████████████████████████████████████████████████████████████████████████████████████████████████████████| 30/30 [00:49<00:00,  1.66s/it]\n"
     ]
    }
   ],
   "source": [
    "first_index = tree.query(points[0])[1]\n",
    "last_index = tree.query(points[1])[1]\n",
    "\n",
    "first_channel = 0\n",
    "last_channel = 31\n",
    "\n",
    "# correlate all lines:    \n",
    "P1 = []\n",
    "Q1 = []\n",
    "for i in trange(len(X1) - 1):\n",
    "    p, q = mg.correlate_curves(X1[i], X1[i+1], Y1[i], Y1[i+1])\n",
    "    P1.append(p)\n",
    "    Q1.append(q)\n",
    "\n",
    "# correlate all lines:    \n",
    "P2 = []\n",
    "Q2 = []\n",
    "for i in trange(len(X2) - 1):\n",
    "    p, q = mg.correlate_curves(X2[i], X2[i+1], Y2[i], Y2[i+1])\n",
    "    P2.append(p)\n",
    "    Q2.append(q)\n",
    "    \n",
    "indices1, x, y = mg.find_indices(first_index, X1, Y1, P1, Q1)\n",
    "indices2, x, y = mg.find_indices(last_index, X1, Y1, P1, Q1)\n",
    "for i in range(len(X1)):\n",
    "    X1[i] = X1[i][indices1[i] : indices2[i]+1]\n",
    "    Y1[i] = Y1[i][indices1[i] : indices2[i]+1]\n",
    "\n",
    "indices1, x, y = mg.find_indices(first_index, X2, Y2, P2, Q2)\n",
    "indices2, x, y = mg.find_indices(last_index, X2, Y2, P2, Q2)\n",
    "for i in range(len(X2)):\n",
    "    X2[i] = X2[i][indices1[i] : indices2[i]+1]\n",
    "    Y2[i] = Y2[i][indices1[i] : indices2[i]+1]"
   ]
  },
  {
   "cell_type": "markdown",
   "metadata": {},
   "source": [
    "### Resample and correlate centerlines and banklines"
   ]
  },
  {
   "cell_type": "code",
   "execution_count": 62,
   "metadata": {},
   "outputs": [
    {
     "name": "stderr",
     "output_type": "stream",
     "text": [
      "100%|█████████████████████████████████████████████████████████████████████████████████████████████████████████| 30/30 [01:49<00:00,  3.66s/it]\n",
      "100%|█████████████████████████████████████████████████████████████████████████████████████████████████████████| 30/30 [01:52<00:00,  3.76s/it]\n"
     ]
    }
   ],
   "source": [
    "# create Z coordinates - just a bunch of zeros -- needed for resampling function in meanderpy:\n",
    "Z1 = []\n",
    "for i in range(len(X1)):\n",
    "    Z1.append(np.zeros(np.shape(X1[i])))\n",
    "Z2 = []\n",
    "for i in range(len(X2)):\n",
    "    Z2.append(np.zeros(np.shape(X2[i])))\n",
    "\n",
    "# resample centerlines to ds = 2.0 meters:\n",
    "for i in range(len(X1)):\n",
    "    x,y,z,dx,dy,dz,ds,s = mp.resample_centerline(X1[i], Y1[i], Z1[i], 2.0)\n",
    "    X1[i] = x\n",
    "    Y1[i] = y\n",
    "for i in range(len(X2)):\n",
    "    x,y,z,dx,dy,dz,ds,s = mp.resample_centerline(X2[i], Y2[i], Z2[i], 2.0)\n",
    "    X2[i] = x\n",
    "    Y2[i] = y\n",
    "\n",
    "P1, Q1 = mg.correlate_set_of_curves(X1, Y1)\n",
    "P2, Q2 = mg.correlate_set_of_curves(X2, Y2)"
   ]
  },
  {
   "cell_type": "code",
   "execution_count": 63,
   "metadata": {},
   "outputs": [],
   "source": [
    "plt.figure()\n",
    "plt.plot(X1[10], Y1[10])\n",
    "plt.plot(X2[10], Y2[10])\n",
    "plt.axis('equal');"
   ]
  },
  {
   "cell_type": "code",
   "execution_count": 20,
   "metadata": {},
   "outputs": [
    {
     "data": {
      "text/plain": [
       "<module 'meandergraph' from '/Users/zoltan/Dropbox/Meandergraph/meandergraph/meandergraph.py'>"
      ]
     },
     "execution_count": 20,
     "metadata": {},
     "output_type": "execute_result"
    }
   ],
   "source": [
    "from importlib import reload\n",
    "reload(mg)"
   ]
  },
  {
   "cell_type": "markdown",
   "metadata": {},
   "source": [
    "### Create centerline- and bank graphs"
   ]
  },
  {
   "cell_type": "code",
   "execution_count": 65,
   "metadata": {},
   "outputs": [
    {
     "name": "stderr",
     "output_type": "stream",
     "text": [
      "100%|████████████████████████████████████████████████████████████████████████████████████████████████████████| 30/30 [00:00<00:00, 232.12it/s]\n",
      "100%|██████████████████████████████████████████████████████████████████████████████████████████████████| 1210/1210 [00:00<00:00, 20961.91it/s]\n",
      "100%|████████████████████████████████████████████████████████████████████████████████████████████████████████| 31/31 [00:00<00:00, 809.16it/s]\n",
      "100%|████████████████████████████████████████████████████████████████████████████████████████████████████████| 30/30 [00:00<00:00, 243.28it/s]\n",
      "100%|██████████████████████████████████████████████████████████████████████████████████████████████████| 1232/1232 [00:00<00:00, 20954.51it/s]\n",
      "100%|████████████████████████████████████████████████████████████████████████████████████████████████████████| 31/31 [00:00<00:00, 744.44it/s]\n"
     ]
    }
   ],
   "source": [
    "# reload(mg)\n",
    "ts = len(X1)\n",
    "# graph = mg.create_graph_from_channel_lines(X[:ts], Y[:ts], P[:ts-1], Q[:ts-1], n_points=20, max_dist=100, remove_cutoff_edges=True)\n",
    "graph1 = mg.create_graph_from_channel_lines(X1[:ts], Y1[:ts], P1[:ts-1], Q1[:ts-1], n_points=20, max_dist=1000, remove_cutoff_edges=True)\n",
    "graph2 = mg.create_graph_from_channel_lines(X2[:ts], Y2[:ts], P2[:ts-1], Q2[:ts-1], n_points=20, max_dist=1000, remove_cutoff_edges=True)"
   ]
  },
  {
   "cell_type": "code",
   "execution_count": 66,
   "metadata": {},
   "outputs": [
    {
     "name": "stderr",
     "output_type": "stream",
     "text": [
      "100%|████████████████████████████████████████████████████████████████████████████████████████████████████████| 31/31 [00:00<00:00, 106.93it/s]\n",
      "100%|████████████████████████████████████████████████████████████████████████████████████████████████████████| 31/31 [00:00<00:00, 117.18it/s]\n"
     ]
    }
   ],
   "source": [
    "# graph = mg.remove_high_density_nodes(graph, min_dist = 10, max_dist = 30)\n",
    "graph1 = mg.remove_high_density_nodes(graph1, min_dist = 20, max_dist = 60)\n",
    "graph2 = mg.remove_high_density_nodes(graph2, min_dist = 20, max_dist = 60)"
   ]
  },
  {
   "cell_type": "markdown",
   "metadata": {},
   "source": [
    "### Plot one of the graphs"
   ]
  },
  {
   "cell_type": "code",
   "execution_count": 86,
   "metadata": {},
   "outputs": [],
   "source": [
    "fig = plt.figure()\n",
    "ax = fig.add_subplot(111)\n",
    "mg.plot_graph(graph2, ax)\n",
    "plt.axis('equal');"
   ]
  },
  {
   "cell_type": "code",
   "execution_count": 382,
   "metadata": {},
   "outputs": [],
   "source": [
    "# save graphs\n",
    "nx.write_gpickle(graph1, \"graph1.gpickle\")\n",
    "nx.write_gpickle(graph2, \"graph2.gpickle\")"
   ]
  },
  {
   "cell_type": "code",
   "execution_count": 293,
   "metadata": {},
   "outputs": [
    {
     "name": "stderr",
     "output_type": "stream",
     "text": [
      "100%|█████████████████████████████████████████████████████████████████████████████████████████████████████████| 30/30 [00:00<00:00, 84.03it/s]\n",
      "100%|████████████████████████████████████████████████████████████████████████████████████████████████████████| 31/31 [00:00<00:00, 967.23it/s]\n",
      "100%|█████████████████████████████████████████████████████████████████████████████████████████████████████████| 31/31 [00:01<00:00, 26.10it/s]\n"
     ]
    }
   ],
   "source": [
    "reload(mg)\n",
    "fig = plt.figure()\n",
    "ax = fig.add_subplot(111)\n",
    "# erosion_bars, chs, all_chs, jumps, cutoffs = mg.plot_erosion(graph1, graph2, cutoff_area, ax)\n",
    "bars, chs, all_chs, jumps, cutoffs = mg.plot_bars3(graph1, graph2, cutoff_area, ax)"
   ]
  },
  {
   "cell_type": "markdown",
   "metadata": {},
   "source": [
    "### Create and plot scrolls and bars (connected scrolls)"
   ]
  },
  {
   "cell_type": "code",
   "execution_count": 414,
   "metadata": {},
   "outputs": [
    {
     "name": "stderr",
     "output_type": "stream",
     "text": [
      "100%|█████████████████████████████████████████████████████████████████████████████████████████████████████████| 30/30 [00:00<00:00, 83.27it/s]\n",
      "100%|████████████████████████████████████████████████████████████████████████████████████████████████████████| 31/31 [00:00<00:00, 967.33it/s]\n",
      "100%|█████████████████████████████████████████████████████████████████████████████████████████████████████████| 31/31 [00:00<00:00, 58.14it/s]\n",
      "100%|█████████████████████████████████████████████████████████████████████████████████████████████████████████| 30/30 [00:02<00:00, 14.05it/s]\n",
      "100%|█████████████████████████████████████████████████████████████████████████████████████████████████████████| 30/30 [00:01<00:00, 15.42it/s]\n",
      "100%|█████████████████████████████████████████████████████████████████████████████████████████████████████████| 30/30 [00:01<00:00, 15.09it/s]\n",
      "100%|█████████████████████████████████████████████████████████████████████████████████████████████████████████| 30/30 [00:01<00:00, 15.98it/s]\n",
      "100%|█████████████████████████████████████████████████████████████████████████████████████████████████████████| 30/30 [00:01<00:00, 16.98it/s]\n",
      "100%|█████████████████████████████████████████████████████████████████████████████████████████████████████████| 30/30 [00:01<00:00, 16.36it/s]\n",
      "100%|█████████████████████████████████████████████████████████████████████████████████████████████████████████| 30/30 [00:02<00:00, 14.95it/s]\n",
      "100%|█████████████████████████████████████████████████████████████████████████████████████████████████████████| 30/30 [00:02<00:00, 14.45it/s]\n",
      "100%|█████████████████████████████████████████████████████████████████████████████████████████████████████████| 30/30 [00:02<00:00, 14.70it/s]\n"
     ]
    }
   ],
   "source": [
    "from importlib import reload\n",
    "reload(mg)\n",
    "cutoff_area = 1*1e6\n",
    "scrolls, scroll_ages, cutoffs, all_bars_graph = mg.create_scrolls_and_find_connected_scrolls(graph1, graph2, cutoff_area)\n",
    "plt.axis('equal');"
   ]
  },
  {
   "cell_type": "markdown",
   "metadata": {},
   "source": [
    "### Create and plot 'bar graphs', colored by migration rate"
   ]
  },
  {
   "cell_type": "code",
   "execution_count": 585,
   "metadata": {},
   "outputs": [
    {
     "name": "stderr",
     "output_type": "stream",
     "text": [
      "100%|█████████████████████████████████████████████████████████████████████████████████████████████████████████| 30/30 [00:16<00:00,  1.83it/s]\n",
      "100%|█████████████████████████████████████████████████████████████████████████████████████████████████████████| 30/30 [00:01<00:00, 18.29it/s]\n",
      "100%|█████████████████████████████████████████████████████████████████████████████████████████████████████████| 21/21 [00:13<00:00,  1.50it/s]\n"
     ]
    }
   ],
   "source": [
    "# create bars and bar graphs\n",
    "reload(mg)\n",
    "min_area = 1000\n",
    "wbars, poly_graph_1, poly_graph_2 = mg.create_polygon_graphs_and_bar_graphs(graph1, graph2, all_bars_graph, \n",
    "                                                    scrolls, scroll_ages, cutoffs, X1, Y1, X2, Y2, min_area)"
   ]
  },
  {
   "cell_type": "code",
   "execution_count": 490,
   "metadata": {},
   "outputs": [
    {
     "name": "stderr",
     "output_type": "stream",
     "text": [
      "100%|█████████████████████████████████████████████████████████████████████████████████████████████████████████| 21/21 [00:03<00:00,  6.07it/s]\n"
     ]
    }
   ],
   "source": [
    "# plot them, using migration rate\n",
    "fig = plt.figure(figsize = (12, 12)) \n",
    "ax = fig.add_subplot(111)\n",
    "mg.plot_bar_graphs(graph1, graph2, wbars, ts, cutoffs, 356*24*60*60, X1, Y1, X2, Y2, 300, 1, 0, 500, 'migration', ax)\n",
    "ax.set_adjustable(\"box\")\n",
    "ax.axis('equal')\n",
    "fig.tight_layout()\n",
    "\n",
    "# ax.plot(X1[ts-1], Y1[ts-1], 'r') # this is needed because Adobe Illustrator does not like the most recent channel polygon\n",
    "# ax.plot(X2[ts-1], Y2[ts-1], 'r')"
   ]
  },
  {
   "cell_type": "code",
   "execution_count": 349,
   "metadata": {},
   "outputs": [],
   "source": [
    "# plot one of the polygon graphs\n",
    "fig = plt.figure()\n",
    "ax = fig.add_subplot(111)\n",
    "for node in poly_graph_1.nodes:\n",
    "    poly = poly_graph_1.nodes[node]['poly']\n",
    "    if type(poly) == MultiPolygon:\n",
    "        for p in poly.geoms:\n",
    "            ax.fill(p.exterior.xy[0], p.exterior.xy[1], alpha=0.5, color = 'lightblue')\n",
    "    else:\n",
    "        ax.fill(poly.exterior.xy[0], poly.exterior.xy[1], alpha=0.5, color = 'lightblue')\n",
    "plt.axis('equal');"
   ]
  },
  {
   "cell_type": "code",
   "execution_count": 353,
   "metadata": {},
   "outputs": [
    {
     "data": {
      "text/plain": [
       "(280424.35791427176,\n",
       " 287652.17915516545,\n",
       " -1671170.212414464,\n",
       " -1649023.0974323864)"
      ]
     },
     "execution_count": 353,
     "metadata": {},
     "output_type": "execute_result"
    }
   ],
   "source": [
    "import matplotlib as mpl\n",
    "fig = plt.figure()\n",
    "ax = fig.add_subplot(111)\n",
    "norm = mpl.colors.Normalize(vmin=0, vmax=len(X1))\n",
    "m = mpl.cm.ScalarMappable(norm=norm, cmap='viridis')\n",
    "for node in poly_graph_1.nodes:\n",
    "        poly = poly_graph_1.nodes[node]['poly']\n",
    "        if type(poly) == Polygon:\n",
    "            ax.fill(poly.exterior.xy[0], poly.exterior.xy[1], \n",
    "                facecolor = m.to_rgba(poly_graph_1.nodes[node]['age']), \n",
    "                edgecolor='k', linewidth=0.25, alpha=0.4)\n",
    "plt.axis('equal')"
   ]
  },
  {
   "cell_type": "code",
   "execution_count": 484,
   "metadata": {},
   "outputs": [
    {
     "data": {
      "text/plain": [
       "(280619.02578016854,\n",
       " 287876.49629426346,\n",
       " -1671434.5072076914,\n",
       " -1648835.953634875)"
      ]
     },
     "execution_count": 484,
     "metadata": {},
     "output_type": "execute_result"
    },
    {
     "name": "stderr",
     "output_type": "stream",
     "text": [
      "2023-06-27 16:34:34.835 python[60378:3041780] IMKClient Stall detected, *please Report* your user scenario attaching a spindump (or sysdiagnose) that captures the problem - (imkxpc_bundleIdentifierWithReply:) block performed very slowly (3.04 secs).\n"
     ]
    }
   ],
   "source": [
    "import matplotlib as mpl\n",
    "fig = plt.figure()\n",
    "ax = fig.add_subplot(111)\n",
    "norm = mpl.colors.Normalize(vmin=0, vmax=len(X1))\n",
    "m = mpl.cm.ScalarMappable(norm=norm, cmap='viridis')\n",
    "for node in poly_graph_2.nodes:\n",
    "        poly = poly_graph_2.nodes[node]['poly']\n",
    "        if type(poly) == Polygon:\n",
    "            ax.fill(poly.exterior.xy[0], poly.exterior.xy[1], \n",
    "                facecolor = m.to_rgba(poly_graph_2.nodes[node]['age']), \n",
    "                edgecolor='k', linewidth=0.25, alpha=0.4)\n",
    "plt.axis('equal')"
   ]
  },
  {
   "cell_type": "code",
   "execution_count": 495,
   "metadata": {},
   "outputs": [
    {
     "name": "stderr",
     "output_type": "stream",
     "text": [
      "100%|█████████████████████████████████████████████████████████████████████████████████████████████████| 28123/28123 [00:14<00:00, 1939.99it/s]\n"
     ]
    },
    {
     "data": {
      "text/plain": [
       "(280619.02578016854,\n",
       " 287876.49629426346,\n",
       " -1671434.5072076914,\n",
       " -1648835.953634875)"
      ]
     },
     "execution_count": 495,
     "metadata": {},
     "output_type": "execute_result"
    }
   ],
   "source": [
    "fig = plt.figure()\n",
    "ax = fig.add_subplot(111)\n",
    "norm = mpl.colors.Normalize(vmin=-100, vmax=100)\n",
    "m = mpl.cm.ScalarMappable(norm=norm, cmap='coolwarm_r')\n",
    "for node in tqdm(poly_graph_2.nodes):\n",
    "        poly = poly_graph_2.nodes[node]['poly']\n",
    "        if type(poly) == Polygon:\n",
    "            ax.fill(poly.exterior.xy[0], poly.exterior.xy[1], \n",
    "                facecolor = m.to_rgba(poly_graph_2.nodes[node]['migr_rate']*poly_graph_2.nodes[node]['direction']), \n",
    "                edgecolor='k', linewidth=0.25, alpha=0.4)\n",
    "plt.axis('equal')"
   ]
  },
  {
   "cell_type": "code",
   "execution_count": 496,
   "metadata": {},
   "outputs": [
    {
     "name": "stderr",
     "output_type": "stream",
     "text": [
      "100%|█████████████████████████████████████████████████████████████████████████████████████████████████| 27542/27542 [00:06<00:00, 4270.79it/s]\n"
     ]
    },
    {
     "data": {
      "text/plain": [
       "(280424.35791427176,\n",
       " 287652.17915516545,\n",
       " -1671170.212414464,\n",
       " -1649023.0974323864)"
      ]
     },
     "execution_count": 496,
     "metadata": {},
     "output_type": "execute_result"
    }
   ],
   "source": [
    "fig = plt.figure()\n",
    "ax = fig.add_subplot(111)\n",
    "norm = mpl.colors.Normalize(vmin=-100, vmax=100)\n",
    "m = mpl.cm.ScalarMappable(norm=norm, cmap='coolwarm')\n",
    "for node in tqdm(poly_graph_1.nodes):\n",
    "        poly = poly_graph_1.nodes[node]['poly']\n",
    "        if type(poly) == Polygon:\n",
    "            ax.fill(poly.exterior.xy[0], poly.exterior.xy[1], \n",
    "                facecolor = m.to_rgba(poly_graph_1.nodes[node]['migr_rate']*poly_graph_1.nodes[node]['direction']), \n",
    "                edgecolor='k', linewidth=0.25, alpha=0.4)\n",
    "plt.axis('equal')"
   ]
  },
  {
   "cell_type": "code",
   "execution_count": 493,
   "metadata": {},
   "outputs": [
    {
     "data": {
      "text/plain": [
       "{'poly': <POLYGON ((282227.771 -1669664.025, 282264.217 -1669653.301, 282270.465 -166...>,\n",
       " 'age': 8,\n",
       " 'x': 282227.7706218711,\n",
       " 'y': -1669664.0252079372,\n",
       " 'length': 24.6031532153684,\n",
       " 'width': 37.98129374466386,\n",
       " 'direction': -1,\n",
       " 'migr_rate': 24.6031532153684}"
      ]
     },
     "execution_count": 493,
     "metadata": {},
     "output_type": "execute_result"
    }
   ],
   "source": [
    "poly_graph_2.nodes[1000]"
   ]
  },
  {
   "cell_type": "code",
   "execution_count": 72,
   "metadata": {},
   "outputs": [],
   "source": [
    "# plot the other polygon graph\n",
    "fig = plt.figure()\n",
    "ax = fig.add_subplot(111)\n",
    "for node in poly_graph_2.nodes:\n",
    "    poly = poly_graph_2.nodes[node]['poly']\n",
    "    if type(poly) == MultiPolygon:\n",
    "        for p in poly.geoms:\n",
    "            ax.fill(p.exterior.xy[0], p.exterior.xy[1], alpha=0.5, color = 'lightblue')\n",
    "    else:\n",
    "        ax.fill(poly.exterior.xy[0], poly.exterior.xy[1], alpha=0.5, color = 'lightblue')\n",
    "plt.axis('equal');"
   ]
  },
  {
   "cell_type": "code",
   "execution_count": 102,
   "metadata": {},
   "outputs": [
    {
     "data": {
      "text/plain": [
       "31"
      ]
     },
     "execution_count": 102,
     "metadata": {},
     "output_type": "execute_result"
    }
   ],
   "source": [
    "def add_edge_directions_to_bank_graph(graph):\n",
    "    for node in trange(graph.graph['number_of_centerlines']):\n",
    "        path = mg.find_longitudinal_path(graph, node)\n",
    "        for i in range(len(path) - 1):\n",
    "            node_1 = path[i]\n",
    "            node_2 = path[i+1]\n",
    "            node_1_children = list(graph.successors(node_1))\n",
    "            node_2_children = list(graph.successors(node_2))\n",
    "            node_3 = False\n",
    "            node_4 = False\n",
    "            for n in node_1_children:\n",
    "                if graph[node_1][n]['edge_type'] == 'radial':\n",
    "                    node_4 = n\n",
    "            for n in node_2_children:\n",
    "                if graph[node_2][n]['edge_type'] == 'radial':\n",
    "                    node_3 = n\n",
    "            x1 = graph.nodes[node_1]['x']\n",
    "            y1 = graph.nodes[node_1]['y']\n",
    "            x2 = graph.nodes[node_2]['x']\n",
    "            y2 = graph.nodes[node_2]['y']\n",
    "            node_1_coords = np.array([x1, y1])\n",
    "            node_2_coords = np.array([x2, y2])\n",
    "            if node_3:\n",
    "                x3 = graph.nodes[node_3]['x']\n",
    "                y3 = graph.nodes[node_3]['y']\n",
    "                node_3_coords = np.array([x3, y3])\n",
    "                dist_23 = np.linalg.norm(node_2_coords - node_3_coords)\n",
    "                direction_23 = mg.directionOfPoint(x1, y1, x2, y2, x3, y3)\n",
    "                graph[node_2][node_3]['direction'] = direction_23\n",
    "            if node_4:\n",
    "                x4 = graph.nodes[node_4]['x']\n",
    "                y4 = graph.nodes[node_4]['y']\n",
    "                node_4_coords = np.array([x4, y4])\n",
    "                dist_14 = np.linalg.norm(node_1_coords - node_4_coords)\n",
    "                direction_14 = mg.directionOfPoint(x1, y1, x2, y2, x4, y4)\n",
    "                graph[node_1][node_4]['direction'] = direction_14\n",
    "    return graph\n"
   ]
  },
  {
   "cell_type": "code",
   "execution_count": 392,
   "metadata": {},
   "outputs": [
    {
     "name": "stderr",
     "output_type": "stream",
     "text": [
      "100%|█████████████████████████████████████████████████████████████████████████████████████████████████████████| 31/31 [00:00<00:00, 95.22it/s]\n"
     ]
    }
   ],
   "source": [
    "graph1 = add_edge_directions_to_bank_graph(graph1)"
   ]
  },
  {
   "cell_type": "code",
   "execution_count": 217,
   "metadata": {},
   "outputs": [
    {
     "name": "stderr",
     "output_type": "stream",
     "text": [
      "100%|████████████████████████████████████████████████████████████████████████████████████████████████████| 1268/1268 [00:06<00:00, 206.14it/s]\n"
     ]
    }
   ],
   "source": [
    "fig = plt.figure()\n",
    "ax = fig.add_subplot(111)\n",
    "cmap = plt.get_cmap(\"tab10\")\n",
    "for node in tqdm(graph1.graph['start_nodes']):\n",
    "    path, path_ages = mg.find_radial_path(graph1, node)\n",
    "    for i in range(len(path)-1):\n",
    "        if graph1[path[i]][path[i+1]]['direction'] == 1:   # erosion on the right bank\n",
    "            ax.plot(graph1.graph['x'][[path[i], path[i+1]]], \n",
    "                    graph1.graph['y'][[path[i], path[i+1]]], color=cmap(1))\n",
    "        if graph1[path[i]][path[i+1]]['direction'] == -1:  # deposition on the right bank\n",
    "            ax.plot(graph1.graph['x'][[path[i], path[i+1]]], \n",
    "                    graph1.graph['y'][[path[i], path[i+1]]], color=cmap(0))\n",
    "plt.axis('equal');"
   ]
  },
  {
   "cell_type": "code",
   "execution_count": 220,
   "metadata": {},
   "outputs": [
    {
     "data": {
      "text/plain": [
       "[<matplotlib.lines.Line2D at 0x5a7350910>]"
      ]
     },
     "execution_count": 220,
     "metadata": {},
     "output_type": "execute_result"
    }
   ],
   "source": [
    "plt.plot(graph1.graph['x'][path], graph1.graph['y'][path], 'k')"
   ]
  },
  {
   "cell_type": "code",
   "execution_count": 190,
   "metadata": {},
   "outputs": [
    {
     "data": {
      "text/plain": [
       "dict_keys(['number_of_centerlines', 'x', 'y', 'cutoff_nodes', 'start_nodes'])"
      ]
     },
     "execution_count": 190,
     "metadata": {},
     "output_type": "execute_result"
    }
   ],
   "source": [
    "graph1.graph.keys()"
   ]
  },
  {
   "cell_type": "code",
   "execution_count": 252,
   "metadata": {},
   "outputs": [],
   "source": [
    "from matplotlib.colors import LinearSegmentedColormap\n",
    "cmap2 = LinearSegmentedColormap.from_list('two_colors', [cmap(0), cmap(1)], N=2)"
   ]
  },
  {
   "cell_type": "code",
   "execution_count": 481,
   "metadata": {},
   "outputs": [
    {
     "data": {
      "text/plain": [
       "[<matplotlib.lines.Line2D at 0x564b5d090>]"
      ]
     },
     "execution_count": 481,
     "metadata": {},
     "output_type": "execute_result"
    }
   ],
   "source": [
    "plt.figure()\n",
    "# for i in range(0, 5): #graph1.graph['number_of_centerlines']):\n",
    "migr_rates = []\n",
    "dirs = []\n",
    "curvs = []\n",
    "path = mg.find_longitudinal_path(graph1, 19)\n",
    "for node in path:\n",
    "    path1, dummy = mg.find_radial_path(graph1, node)\n",
    "    if len(path1) > 1:\n",
    "        x1 = graph1.nodes[path1[0]]['x']\n",
    "        y1 = graph1.nodes[path1[0]]['y']\n",
    "        x2 = graph1.nodes[path1[1]]['x']\n",
    "        y2 = graph1.nodes[path1[1]]['y']\n",
    "        dist = ((x2-x1)**2 + (y2-y1)**2)**0.5\n",
    "        direction = graph1[path1[0]][path1[1]]['direction']\n",
    "        migr_rates.append(dist*direction)\n",
    "        dirs.append(direction)\n",
    "        curvs.append(graph1.nodes[node]['curv'])\n",
    "plt.plot(migr_rates)\n",
    "plt.plot(-1*np.array(curvs)*50000)\n",
    "plt.plot([0, len(migr_rates)], [0, 0], 'r--')\n",
    "# plt.figure()\n",
    "# plt.scatter(np.arange(len(migr_rates)), np.cumsum(migr_rates), c=np.array(dirs), cmap=cmap2);"
   ]
  },
  {
   "cell_type": "code",
   "execution_count": 482,
   "metadata": {},
   "outputs": [
    {
     "data": {
      "text/plain": [
       "<matplotlib.collections.PathCollection at 0x564bbe310>"
      ]
     },
     "execution_count": 482,
     "metadata": {},
     "output_type": "execute_result"
    }
   ],
   "source": [
    "plt.figure()\n",
    "plt.scatter(-1*np.array(curvs)*50000, migr_rates)"
   ]
  },
  {
   "cell_type": "code",
   "execution_count": 188,
   "metadata": {},
   "outputs": [
    {
     "data": {
      "text/plain": [
       "[<matplotlib.lines.Line2D at 0x4083c9a10>]"
      ]
     },
     "execution_count": 188,
     "metadata": {},
     "output_type": "execute_result"
    }
   ],
   "source": [
    "plt.figure()\n",
    "# for node in long_path_nodes[300:350]:\n",
    "path, path_ages = mg.find_radial_path(graph1, 3255)\n",
    "dirs = []\n",
    "lengths = []\n",
    "for i in range(len(path)-1):\n",
    "    dirs.append(graph1[path[i]][path[i+1]]['direction'])\n",
    "    x1 = graph1.nodes[path[i]]['x']\n",
    "    y1 = graph1.nodes[path[i]]['y']\n",
    "    x2 = graph1.nodes[path[i+1]]['x']\n",
    "    y2 = graph1.nodes[path[i+1]]['y']\n",
    "    lengths.append(((x2-x1)**2 + (y2-y1)**2)**0.5)\n",
    "plt.plot(np.array(dirs)*np.array(lengths))"
   ]
  },
  {
   "cell_type": "code",
   "execution_count": 185,
   "metadata": {},
   "outputs": [
    {
     "data": {
      "text/plain": [
       "[3131, 3162, 3193, 3224, 3255, 3286, 3317, 3348, 3379, 3410]"
      ]
     },
     "execution_count": 185,
     "metadata": {},
     "output_type": "execute_result"
    }
   ],
   "source": [
    "long_path_nodes[100:110]"
   ]
  },
  {
   "cell_type": "code",
   "execution_count": 123,
   "metadata": {},
   "outputs": [],
   "source": [
    "# add curvature attribute to bankline graphs (needed for curvature maps)\n",
    "mg.add_curvature_to_line_graph(graph1, smoothing_factor = 51)\n",
    "mg.add_curvature_to_line_graph(graph2, smoothing_factor = 51)"
   ]
  },
  {
   "cell_type": "code",
   "execution_count": 456,
   "metadata": {},
   "outputs": [
    {
     "data": {
      "text/plain": [
       "0.0006098016037350975"
      ]
     },
     "execution_count": 456,
     "metadata": {},
     "output_type": "execute_result"
    }
   ],
   "source": [
    "graph1.nodes[1000]['curv']"
   ]
  },
  {
   "cell_type": "markdown",
   "metadata": {},
   "source": [
    "### Plot migration rate map for one bar"
   ]
  },
  {
   "cell_type": "code",
   "execution_count": 41,
   "metadata": {},
   "outputs": [],
   "source": [
    "reload(mg)\n",
    "fig = plt.figure()\n",
    "ax = fig.add_subplot(111)\n",
    "ax.fill(wbars[1].polygon.exterior.xy[0], wbars[1].polygon.exterior.xy[1])\n",
    "mg.plot_migration_rate_map(wbars[1], graph1, graph2, vmin=0, vmax=300, dt=365*24*60*60, saved_ts=1, ax=ax)\n",
    "plt.axis('equal');"
   ]
  },
  {
   "cell_type": "markdown",
   "metadata": {},
   "source": [
    "### Plot age map for one bar"
   ]
  },
  {
   "cell_type": "code",
   "execution_count": 46,
   "metadata": {},
   "outputs": [],
   "source": [
    "reload(mg)\n",
    "fig = plt.figure()\n",
    "ax = fig.add_subplot(111)\n",
    "mg.plot_age_map(wbars[1], vmin=0, vmax=ts, W=300, ax=ax)\n",
    "plt.axis('equal');"
   ]
  },
  {
   "cell_type": "markdown",
   "metadata": {},
   "source": [
    "### Plot bar polygons and their numbers"
   ]
  },
  {
   "cell_type": "code",
   "execution_count": 438,
   "metadata": {},
   "outputs": [],
   "source": [
    "# plot bar polygons and their numbers\n",
    "# fig = plt.figure(figsize = (15, 9))\n",
    "# ax = fig.add_subplot(111)\n",
    "# plt.figure(35)\n",
    "for wbar in wbars:\n",
    "#     wbar.add_bank_type()\n",
    "    if wbar.bank_type == 'right':\n",
    "        plt.fill(wbar.polygon.exterior.xy[0], wbar.polygon.exterior.xy[1], color='white')\n",
    "count = 0\n",
    "# for wbar in wbars:\n",
    "#     ax.text(wbar.polygon.centroid.x, wbar.polygon.centroid.y, str(count), fontsize = 16)\n",
    "#     count += 1\n",
    "# plt.axis('equal');"
   ]
  },
  {
   "cell_type": "code",
   "execution_count": 446,
   "metadata": {},
   "outputs": [
    {
     "data": {
      "text/plain": [
       "shapely.geometry.multipolygon.MultiPolygon"
      ]
     },
     "execution_count": 446,
     "metadata": {},
     "output_type": "execute_result"
    }
   ],
   "source": [
    "type(right_bars)"
   ]
  },
  {
   "cell_type": "code",
   "execution_count": 453,
   "metadata": {},
   "outputs": [
    {
     "name": "stderr",
     "output_type": "stream",
     "text": [
      "100%|█████████████████████████████████████████████████████████████████████████████████████████████████| 27542/27542 [00:19<00:00, 1416.44it/s]\n"
     ]
    },
    {
     "data": {
      "text/plain": [
       "[<matplotlib.patches.Polygon at 0x53e76fcd0>]"
      ]
     },
     "execution_count": 453,
     "metadata": {},
     "output_type": "execute_result"
    }
   ],
   "source": [
    "# for wbar in wbars:\n",
    "#     wbar.add_bank_type()\n",
    "\n",
    "right_bars = []\n",
    "for wbar in wbars:\n",
    "    if wbar.bank_type == 'right':\n",
    "        right_bars.append(wbar.polygon)\n",
    "        \n",
    "norm = mpl.colors.Normalize(vmin=0, vmax=len(X1))\n",
    "m = mpl.cm.ScalarMappable(norm=norm, cmap='viridis')\n",
    "        \n",
    "fig = plt.figure()\n",
    "ax = fig.add_subplot(111)\n",
    "for node in tqdm(poly_graph_1.nodes):\n",
    "        poly = poly_graph_1.nodes[node]['poly']\n",
    "        if type(poly) == Polygon:\n",
    "            plotting = True\n",
    "            for bar in right_bars:\n",
    "                if bar.buffer.intersects(poly):\n",
    "                    plotting = False\n",
    "            if plotting:\n",
    "                if poly_graph_1.nodes[node]['direction'] == 1:\n",
    "                    ax.fill(poly.exterior.xy[0], poly.exterior.xy[1], \n",
    "                       facecolor = m.to_rgba(poly_graph_1.nodes[node]['age']), \n",
    "                        edgecolor='k', linewidth=0.25, alpha=0.4)\n",
    "#                 else:\n",
    "#                     ax.fill(poly.exterior.xy[0], poly.exterior.xy[1], \n",
    "#                         facecolor = cmap(0), \n",
    "#                         edgecolor='k', linewidth=0.25, alpha=0.4)\n",
    "plt.axis('equal')\n",
    "    \n",
    "# for wbar in wbars:\n",
    "#     if wbar.bank_type == 'right':\n",
    "#         plt.fill(wbar.polygon.exterior.xy[0], wbar.polygon.exterior.xy[1], color='white')\n",
    "\n",
    "ch = mg.create_channel_polygon_2(X1[-1], Y1[-1], X2[-1], Y2[-1])\n",
    "plt.fill(ch.exterior.xy[0], ch.exterior.xy[1], 'b', alpha=0.2)"
   ]
  },
  {
   "cell_type": "code",
   "execution_count": 526,
   "metadata": {},
   "outputs": [
    {
     "data": {
      "text/plain": [
       "[<POLYGON ((281384.019 -1669514.51, 281356.238 -1669500.286, 281354.755 -1669...>,\n",
       " <POLYGON ((284715.269 -1665975.413, 284731.648 -1665974.773, 284742.405 -166...>,\n",
       " <POLYGON ((281757.304 -1660210.573, 281773.176 -1660240.785, 281784.8 -16602...>,\n",
       " <POLYGON ((284313.091 -1660408.327, 284323.383 -1660422.536, 284329.44 -1660...>,\n",
       " <POLYGON ((285954.893 -1656441.525, 285902.685 -1656481.144, 285864.661 -165...>,\n",
       " <POLYGON ((283162.52 -1652649.976, 283174.726 -1652654.181, 283210.048 -1652...>,\n",
       " <POLYGON ((280904.181 -1652985.183, 280939.277 -1653037.344, 280966.785 -165...>,\n",
       " <POLYGON ((284820.244 -1650277.936, 284814.095 -1650279.163, 284829.613 -165...>,\n",
       " <POLYGON ((284440.766 -1665944.559, 284454.839 -1665944.001, 284500.862 -166...>]"
      ]
     },
     "execution_count": 526,
     "metadata": {},
     "output_type": "execute_result"
    }
   ],
   "source": [
    "right_bars"
   ]
  },
  {
   "cell_type": "markdown",
   "metadata": {},
   "source": [
    "### Some debugging code"
   ]
  },
  {
   "cell_type": "code",
   "execution_count": 49,
   "metadata": {},
   "outputs": [],
   "source": [
    "# code for debugging bar polygons\n",
    "from shapely.geometry import Point\n",
    "\n",
    "def debug_bar_polygons(wbar, graph1, graph2, dt, saved_ts, ax):\n",
    "    mg.plot_migration_rate_map(wbar, graph1, graph2, vmin=0, vmax=40, dt=dt, saved_ts=saved_ts, ax=ax)\n",
    "    plt.axis('equal');\n",
    "    nodes = []\n",
    "    if wbar.scrolls[-1].bank == 'right':\n",
    "        line_graph = graph1\n",
    "    else:\n",
    "        line_graph = graph2\n",
    "    for node in line_graph.nodes:\n",
    "        point = Point(line_graph.nodes[node]['x'], line_graph.nodes[node]['y'])\n",
    "        if wbar.polygon.contains(point):\n",
    "            nodes.append(node)\n",
    "    for node in nodes:\n",
    "        plt.plot(line_graph.nodes[node]['x'], line_graph.nodes[node]['y'], 'k.')\n",
    "        plt.text(line_graph.nodes[node]['x'], line_graph.nodes[node]['y'], str(node))\n",
    "\n",
    "def debug_bar_polygons_2(wbar, graph1, graph2, dt, saved_ts, ax):\n",
    "    mg.plot_migration_rate_map(wbar, graph1, graph2, vmin=0, vmax=300, dt=dt, saved_ts=saved_ts, ax=ax)\n",
    "    plt.axis('equal');\n",
    "    for node in wbar.bar_graph.nodes:\n",
    "        ax.text(wbar.bar_graph.nodes[node]['poly'].centroid.x, wbar.bar_graph.nodes[node]['poly'].centroid.y, str(node))"
   ]
  },
  {
   "cell_type": "code",
   "execution_count": 50,
   "metadata": {},
   "outputs": [],
   "source": [
    "dt=365*24*60*60\n",
    "saved_ts = 1\n",
    "fig = plt.figure()\n",
    "ax = fig.add_subplot(111)\n",
    "mg.plot_graph(graph2, ax)\n",
    "fig = debug_bar_polygons_2(wbars[10], graph1, graph2, dt, saved_ts, ax)\n",
    "# debug_bar_polygons(wbars[10], graph1, graph2, dt, saved_ts, ax)\n"
   ]
  },
  {
   "cell_type": "markdown",
   "metadata": {},
   "source": [
    "### Plot radial lines only"
   ]
  },
  {
   "cell_type": "code",
   "execution_count": 51,
   "metadata": {},
   "outputs": [],
   "source": [
    "fig = plt.figure()\n",
    "ax = fig.add_subplot(111)\n",
    "path = mg.find_longitudinal_path(graph2, graph2.graph['start_nodes'][0])\n",
    "for node in path:\n",
    "    radial_path, dummy = mg.find_radial_path(graph2, node)\n",
    "    x = graph2.graph['x'][radial_path]\n",
    "    y = graph2.graph['y'][radial_path]\n",
    "    plt.plot(x, y, 'k', linewidth = 0.5)\n",
    "plt.axis('equal');"
   ]
  },
  {
   "cell_type": "markdown",
   "metadata": {},
   "source": [
    "### Create and plot 'simple' polygon graph (with only primary radial lines)"
   ]
  },
  {
   "cell_type": "code",
   "execution_count": 46,
   "metadata": {},
   "outputs": [],
   "source": [
    "path = mg.find_longitudinal_path(graph2, graph2.graph['start_nodes'][0])"
   ]
  },
  {
   "cell_type": "code",
   "execution_count": 398,
   "metadata": {},
   "outputs": [
    {
     "name": "stderr",
     "output_type": "stream",
     "text": [
      "100%|█████████████████████████████████████████████████████████████████████████████████████████████████████████| 31/31 [00:04<00:00,  6.97it/s]\n",
      "100%|███████████████████████████████████████████████████████████████████████████████████████████████████████| 841/841 [00:09<00:00, 86.21it/s]\n"
     ]
    }
   ],
   "source": [
    "graph_poly = mg.create_simple_polygon_graph(graph2, X1[:ts]) # graph2 is left bank\n",
    "fig = plt.figure()\n",
    "ax = fig.add_subplot(111)\n",
    "mg.plot_simple_polygon_graph(graph_poly, ax, 'left')\n",
    "plt.axis('equal');"
   ]
  },
  {
   "cell_type": "code",
   "execution_count": 399,
   "metadata": {},
   "outputs": [],
   "source": [
    "# plot individual polygon 'trajectories'\n",
    "fig = plt.figure()\n",
    "ax = fig.add_subplot(111)\n",
    "for i in range(2, len(path), 3):\n",
    "    radial_path = mg.find_radial_path_2(graph_poly, path[i])\n",
    "    count = 0\n",
    "    bank_type = 'left'\n",
    "    cmap = plt.get_cmap(\"tab10\")\n",
    "    for node in radial_path:\n",
    "        if 'poly' in graph_poly.nodes[node].keys():\n",
    "            if graph_poly.nodes[node]['poly']:\n",
    "                if bank_type == 'left':\n",
    "                    if graph_poly.nodes[node]['direction'] == -1:\n",
    "                        ax.fill(graph_poly.nodes[node]['poly'].exterior.xy[0], \n",
    "                                graph_poly.nodes[node]['poly'].exterior.xy[1],\n",
    "                                facecolor = cmap(1), edgecolor='k', \n",
    "                                linewidth = 0.3, alpha = 0.5, zorder = count)\n",
    "                    if graph_poly.nodes[node]['direction'] == 1:\n",
    "                        ax.fill(graph_poly.nodes[node]['poly'].exterior.xy[0],\n",
    "                                     graph_poly.nodes[node]['poly'].exterior.xy[1],\n",
    "                                     facecolor = cmap(0), edgecolor='k', \n",
    "                                     linewidth = 0.3, alpha = 0.5, zorder = count)\n",
    "        count += 1\n",
    "plt.axis('equal');                    "
   ]
  },
  {
   "cell_type": "code",
   "execution_count": 525,
   "metadata": {},
   "outputs": [
    {
     "data": {
      "text/html": [
       "<div>\n",
       "<style scoped>\n",
       "    .dataframe tbody tr th:only-of-type {\n",
       "        vertical-align: middle;\n",
       "    }\n",
       "\n",
       "    .dataframe tbody tr th {\n",
       "        vertical-align: top;\n",
       "    }\n",
       "\n",
       "    .dataframe thead th {\n",
       "        text-align: right;\n",
       "    }\n",
       "</style>\n",
       "<table border=\"1\" class=\"dataframe\">\n",
       "  <thead>\n",
       "    <tr style=\"text-align: right;\">\n",
       "      <th></th>\n",
       "      <th>geometry</th>\n",
       "      <th>migr_rate</th>\n",
       "      <th>direction</th>\n",
       "      <th>age</th>\n",
       "      <th>area</th>\n",
       "    </tr>\n",
       "  </thead>\n",
       "  <tbody>\n",
       "    <tr>\n",
       "      <th>0</th>\n",
       "      <td>POLYGON ((280904.628 -1669530.555, 280940.756 ...</td>\n",
       "      <td>19.841002</td>\n",
       "      <td>1</td>\n",
       "      <td>0</td>\n",
       "      <td>812.806173</td>\n",
       "    </tr>\n",
       "    <tr>\n",
       "      <th>1</th>\n",
       "      <td>POLYGON ((280940.756 -1669513.309, 280977.269 ...</td>\n",
       "      <td>10.012592</td>\n",
       "      <td>1</td>\n",
       "      <td>0</td>\n",
       "      <td>405.830051</td>\n",
       "    </tr>\n",
       "    <tr>\n",
       "      <th>2</th>\n",
       "      <td>POLYGON ((280977.269 -1669496.886, 281014.475 ...</td>\n",
       "      <td>4.554054</td>\n",
       "      <td>1</td>\n",
       "      <td>0</td>\n",
       "      <td>181.183133</td>\n",
       "    </tr>\n",
       "    <tr>\n",
       "      <th>3</th>\n",
       "      <td>POLYGON ((281014.475 -1669482.193, 281052.831 ...</td>\n",
       "      <td>2.035753</td>\n",
       "      <td>1</td>\n",
       "      <td>0</td>\n",
       "      <td>81.182172</td>\n",
       "    </tr>\n",
       "    <tr>\n",
       "      <th>4</th>\n",
       "      <td>MULTIPOLYGON (((281052.831 -1669470.700, 28105...</td>\n",
       "      <td>-2.365115</td>\n",
       "      <td>-1</td>\n",
       "      <td>0</td>\n",
       "      <td>82.023968</td>\n",
       "    </tr>\n",
       "  </tbody>\n",
       "</table>\n",
       "</div>"
      ],
      "text/plain": [
       "                                            geometry  migr_rate  direction  \\\n",
       "0  POLYGON ((280904.628 -1669530.555, 280940.756 ...  19.841002          1   \n",
       "1  POLYGON ((280940.756 -1669513.309, 280977.269 ...  10.012592          1   \n",
       "2  POLYGON ((280977.269 -1669496.886, 281014.475 ...   4.554054          1   \n",
       "3  POLYGON ((281014.475 -1669482.193, 281052.831 ...   2.035753          1   \n",
       "4  MULTIPOLYGON (((281052.831 -1669470.700, 28105...  -2.365115         -1   \n",
       "\n",
       "   age        area  \n",
       "0    0  812.806173  \n",
       "1    0  405.830051  \n",
       "2    0  181.183133  \n",
       "3    0   81.182172  \n",
       "4    0   82.023968  "
      ]
     },
     "execution_count": 525,
     "metadata": {},
     "output_type": "execute_result"
    }
   ],
   "source": [
    "polys = []\n",
    "migr_rates = []\n",
    "directions = []\n",
    "ages = []\n",
    "for node in poly_graph_1.nodes:\n",
    "    polys.append(poly_graph_1.nodes[node]['poly'])\n",
    "    migr_rates.append(poly_graph_1.nodes[node]['migr_rate']*poly_graph_1.nodes[node]['direction'])\n",
    "    directions.append(poly_graph_1.nodes[node]['direction'])\n",
    "    ages.append(poly_graph_1.nodes[node]['age'])\n",
    "gdf = gpd.GeoDataFrame(polys, columns = ['geometry'])\n",
    "gdf['migr_rate'] = migr_rates\n",
    "gdf['direction'] = directions\n",
    "gdf['age'] = ages\n",
    "gdf['area'] = gdf.area\n",
    "gdf.head()"
   ]
  },
  {
   "cell_type": "code",
   "execution_count": 513,
   "metadata": {},
   "outputs": [],
   "source": [
    "gdf.crs = {'init' :'epsg:32620'}"
   ]
  },
  {
   "cell_type": "code",
   "execution_count": 514,
   "metadata": {},
   "outputs": [],
   "source": [
    "gdf.to_file(\"/Users/zoltan/Dropbox/Channels/Fluvial/Mamore_cutoff/new_GIS_data/mamore_right_bank.shp\") # write shapefile"
   ]
  },
  {
   "cell_type": "code",
   "execution_count": 515,
   "metadata": {},
   "outputs": [
    {
     "data": {
      "text/html": [
       "<div>\n",
       "<style scoped>\n",
       "    .dataframe tbody tr th:only-of-type {\n",
       "        vertical-align: middle;\n",
       "    }\n",
       "\n",
       "    .dataframe tbody tr th {\n",
       "        vertical-align: top;\n",
       "    }\n",
       "\n",
       "    .dataframe thead th {\n",
       "        text-align: right;\n",
       "    }\n",
       "</style>\n",
       "<table border=\"1\" class=\"dataframe\">\n",
       "  <thead>\n",
       "    <tr style=\"text-align: right;\">\n",
       "      <th></th>\n",
       "      <th>geometry</th>\n",
       "      <th>migr_rate</th>\n",
       "      <th>direction</th>\n",
       "      <th>age</th>\n",
       "      <th>area</th>\n",
       "    </tr>\n",
       "  </thead>\n",
       "  <tbody>\n",
       "    <tr>\n",
       "      <th>0</th>\n",
       "      <td>POLYGON ((280963.202 -1669815.253, 281002.923 ...</td>\n",
       "      <td>57.883497</td>\n",
       "      <td>1</td>\n",
       "      <td>0</td>\n",
       "      <td>2315.029336</td>\n",
       "    </tr>\n",
       "    <tr>\n",
       "      <th>1</th>\n",
       "      <td>POLYGON ((281002.923 -1669810.266, 281042.330 ...</td>\n",
       "      <td>59.605661</td>\n",
       "      <td>1</td>\n",
       "      <td>0</td>\n",
       "      <td>2384.686519</td>\n",
       "    </tr>\n",
       "    <tr>\n",
       "      <th>2</th>\n",
       "      <td>POLYGON ((281042.330 -1669803.307, 281081.151 ...</td>\n",
       "      <td>59.174405</td>\n",
       "      <td>1</td>\n",
       "      <td>0</td>\n",
       "      <td>2361.458029</td>\n",
       "    </tr>\n",
       "    <tr>\n",
       "      <th>3</th>\n",
       "      <td>POLYGON ((281081.151 -1669793.517, 281120.460 ...</td>\n",
       "      <td>58.909525</td>\n",
       "      <td>1</td>\n",
       "      <td>0</td>\n",
       "      <td>2411.817581</td>\n",
       "    </tr>\n",
       "    <tr>\n",
       "      <th>4</th>\n",
       "      <td>POLYGON ((281120.460 -1669785.990, 281160.349 ...</td>\n",
       "      <td>59.542513</td>\n",
       "      <td>1</td>\n",
       "      <td>0</td>\n",
       "      <td>2500.168858</td>\n",
       "    </tr>\n",
       "  </tbody>\n",
       "</table>\n",
       "</div>"
      ],
      "text/plain": [
       "                                            geometry  migr_rate  direction  \\\n",
       "0  POLYGON ((280963.202 -1669815.253, 281002.923 ...  57.883497          1   \n",
       "1  POLYGON ((281002.923 -1669810.266, 281042.330 ...  59.605661          1   \n",
       "2  POLYGON ((281042.330 -1669803.307, 281081.151 ...  59.174405          1   \n",
       "3  POLYGON ((281081.151 -1669793.517, 281120.460 ...  58.909525          1   \n",
       "4  POLYGON ((281120.460 -1669785.990, 281160.349 ...  59.542513          1   \n",
       "\n",
       "   age         area  \n",
       "0    0  2315.029336  \n",
       "1    0  2384.686519  \n",
       "2    0  2361.458029  \n",
       "3    0  2411.817581  \n",
       "4    0  2500.168858  "
      ]
     },
     "execution_count": 515,
     "metadata": {},
     "output_type": "execute_result"
    }
   ],
   "source": [
    "polys = []\n",
    "migr_rates = []\n",
    "directions = []\n",
    "ages = []\n",
    "for node in poly_graph_2.nodes:\n",
    "    polys.append(poly_graph_2.nodes[node]['poly'])\n",
    "    migr_rates.append(poly_graph_2.nodes[node]['migr_rate']*poly_graph_2.nodes[node]['direction'])\n",
    "    directions.append(poly_graph_2.nodes[node]['direction'])\n",
    "    ages.append(poly_graph_2.nodes[node]['age'])\n",
    "gdf = gpd.GeoDataFrame(polys, columns = ['geometry'])\n",
    "gdf['migr_rate'] = migr_rates\n",
    "gdf['direction'] = directions\n",
    "gdf['age'] = ages\n",
    "gdf['area'] = gdf.area\n",
    "gdf.crs = {'init' :'epsg:32620'}\n",
    "gdf.head()"
   ]
  },
  {
   "cell_type": "code",
   "execution_count": 516,
   "metadata": {},
   "outputs": [],
   "source": [
    "gdf.to_file(\"/Users/zoltan/Dropbox/Channels/Fluvial/Mamore_cutoff/new_GIS_data/mamore_left_bank.shp\") # write shapefile"
   ]
  },
  {
   "cell_type": "code",
   "execution_count": 529,
   "metadata": {},
   "outputs": [],
   "source": [
    "nx.write_gpickle(poly_graph_1, \"/Users/zoltan/Dropbox/Channels/Fluvial/Mamore_cutoff/new_GIS_data/poly_graph_1.gpickle\")"
   ]
  },
  {
   "cell_type": "code",
   "execution_count": 531,
   "metadata": {},
   "outputs": [],
   "source": [
    "nx.write_gpickle(poly_graph_2, \"/Users/zoltan/Dropbox/Channels/Fluvial/Mamore_cutoff/new_GIS_data/poly_graph_2.gpickle\")"
   ]
  },
  {
   "cell_type": "code",
   "execution_count": 533,
   "metadata": {},
   "outputs": [
    {
     "data": {
      "text/plain": [
       "True"
      ]
     },
     "execution_count": 533,
     "metadata": {},
     "output_type": "execute_result"
    }
   ],
   "source": [
    "poly.is_valid"
   ]
  },
  {
   "cell_type": "code",
   "execution_count": 534,
   "metadata": {},
   "outputs": [],
   "source": [
    "def load_landsat_image(img_folder, bands):\n",
    "    image = {} # create an empty dictionary\n",
    "    path = Path(img_folder)\n",
    "    for band in bands:\n",
    "        # landsat images end with *_RT_B#.TIF\n",
    "        file = next(path.glob(f'*_T1_{band}.TIF')) # filename\n",
    "        print(f'Opening file {file}')\n",
    "        ds = rasterio.open(file) # open file using rasterio\n",
    "        image.update({band: ds.read(1)}) # store band in dictionary\n",
    "    return image, ds.transform, ds.bounds\n",
    "    \n",
    "def normalized_difference(img, b1, b2, eps=0.0001):\n",
    "    band1 = np.where((img[b1]==0) & (img[b2]==0), np.nan, img[b1])\n",
    "    band2 = np.where((img[b1]==0) & (img[b2]==0), np.nan, img[b2])\n",
    "    return (band1 - band2) / (band1 + band2)"
   ]
  },
  {
   "cell_type": "code",
   "execution_count": 537,
   "metadata": {},
   "outputs": [
    {
     "name": "stdout",
     "output_type": "stream",
     "text": [
      "Opening file /Users/zoltan/Dropbox/P4GR/RTX_2023/landsat_data_2018/LC08_L1TP_232070_20180622_20200831_02_T1_B2.TIF\n",
      "Opening file /Users/zoltan/Dropbox/P4GR/RTX_2023/landsat_data_2018/LC08_L1TP_232070_20180622_20200831_02_T1_B3.TIF\n",
      "Opening file /Users/zoltan/Dropbox/P4GR/RTX_2023/landsat_data_2018/LC08_L1TP_232070_20180622_20200831_02_T1_B4.TIF\n",
      "Opening file /Users/zoltan/Dropbox/P4GR/RTX_2023/landsat_data_2018/LC08_L1TP_232070_20180622_20200831_02_T1_B5.TIF\n",
      "Opening file /Users/zoltan/Dropbox/P4GR/RTX_2023/landsat_data_2018/LC08_L1TP_232070_20180622_20200831_02_T1_B6.TIF\n",
      "Opening file /Users/zoltan/Dropbox/P4GR/RTX_2023/landsat_data_2018/LC08_L1TP_232070_20180622_20200831_02_T1_B7.TIF\n"
     ]
    }
   ],
   "source": [
    "from pathlib import Path\n",
    "import rasterio\n",
    "folder = '/Users/zoltan/Dropbox/P4GR/RTX_2023/landsat_data_2018/'\n",
    "img, transform, bounds = load_landsat_image(folder, ['B2', 'B3', 'B4', 'B5', 'B6', 'B7'])"
   ]
  },
  {
   "cell_type": "code",
   "execution_count": 536,
   "metadata": {},
   "outputs": [
    {
     "name": "stdout",
     "output_type": "stream",
     "text": [
      "/Users/zoltan/mambaforge/envs/meanderpy/bin/jupyter\r\n"
     ]
    }
   ],
   "source": [
    "!which jupyter"
   ]
  },
  {
   "cell_type": "code",
   "execution_count": 555,
   "metadata": {},
   "outputs": [
    {
     "name": "stderr",
     "output_type": "stream",
     "text": [
      "Clipping input data to the valid range for imshow with RGB data ([0..1] for floats or [0..255] for integers).\n"
     ]
    }
   ],
   "source": [
    "rgb2 = np.stack([img['B7'], img['B5'], img['B3']], axis=-1)\n",
    "rgb2 = rgb2/rgb2.max() * 2.5\n",
    "plt.figure()\n",
    "plt.imshow(rgb2, extent = [bounds[0], bounds[2], bounds[1], bounds[3]])\n",
    "\n",
    "# cmap = plt.cm.get_cmap('Pastel1')\n",
    "# # Generate random indices for colors\n",
    "# num_colors = len(wbars)  # Number of colors to choose\n",
    "# color_indices = np.random.randint(0, cmap.N, num_colors)\n",
    "# # Get the individual colors\n",
    "# colors = [cmap(i) for i in color_indices]\n",
    "\n",
    "for i in range(len(wbars)):\n",
    "#     color = colors[i]\n",
    "    r = random.random()\n",
    "    b = random.random()\n",
    "    g = random.random()\n",
    "    color = (r, g, b, 0.5)\n",
    "    for scroll in wbars[i].scrolls:\n",
    "        plt.fill(scroll.polygon.exterior.xy[0], scroll.polygon.exterior.xy[1], \n",
    "                 facecolor=color, edgecolor='k', alpha=1)"
   ]
  },
  {
   "cell_type": "code",
   "execution_count": 562,
   "metadata": {},
   "outputs": [
    {
     "data": {
      "text/plain": [
       "(-1671482.6104035194, -1647641.2654740224)"
      ]
     },
     "execution_count": 562,
     "metadata": {},
     "output_type": "execute_result"
    }
   ],
   "source": [
    "xlim = (275972.0840789568, 291897.266767988)\n",
    "ylim = (-1671482.6104035194, -1647641.2654740224)\n",
    "plt.xlim(xlim)\n",
    "plt.ylim(ylim)"
   ]
  },
  {
   "cell_type": "code",
   "execution_count": 579,
   "metadata": {},
   "outputs": [
    {
     "name": "stderr",
     "output_type": "stream",
     "text": [
      "Clipping input data to the valid range for imshow with RGB data ([0..1] for floats or [0..255] for integers).\n"
     ]
    },
    {
     "data": {
      "text/plain": [
       "(-1671482.6104035194, -1647641.2654740224)"
      ]
     },
     "execution_count": 579,
     "metadata": {},
     "output_type": "execute_result"
    },
    {
     "name": "stderr",
     "output_type": "stream",
     "text": [
      "2023-06-29 14:47:12.498 python[60378:3041780] +[CATransaction synchronize] called within transaction\n"
     ]
    }
   ],
   "source": [
    "plt.figure()\n",
    "plt.imshow(rgb2, extent = [bounds[0], bounds[2], bounds[1], bounds[3]])\n",
    "\n",
    "# nodes = mg.find_longitudinal_path(graph1, 0)\n",
    "# for node in nodes:\n",
    "#     path, ages = mg.find_radial_path(graph2, node)\n",
    "#     plt.plot(graph2.graph['x'][path], graph2.graph['y'][path], 'k')\n",
    "    \n",
    "for node in graph2.graph['start_nodes']:\n",
    "    path, ages = mg.find_radial_path(graph2, node)\n",
    "    plt.plot(graph2.graph['x'][path], graph2.graph['y'][path], 'k')\n",
    "\n",
    "plt.xlim(xlim)\n",
    "plt.ylim(ylim)"
   ]
  },
  {
   "cell_type": "code",
   "execution_count": 572,
   "metadata": {},
   "outputs": [
    {
     "name": "stderr",
     "output_type": "stream",
     "text": [
      "Clipping input data to the valid range for imshow with RGB data ([0..1] for floats or [0..255] for integers).\n",
      "100%|█████████████████████████████████████████████████████████████████████████████████████████████████| 27542/27542 [00:06<00:00, 4251.28it/s]\n"
     ]
    },
    {
     "data": {
      "text/plain": [
       "(-1671482.6104035194, -1647641.2654740224)"
      ]
     },
     "execution_count": 572,
     "metadata": {},
     "output_type": "execute_result"
    },
    {
     "name": "stderr",
     "output_type": "stream",
     "text": [
      "2023-06-29 14:21:28.855 python[60378:3041780] +[CATransaction synchronize] called within transaction\n"
     ]
    }
   ],
   "source": [
    "norm = mpl.colors.Normalize(vmin=-1, vmax=1)\n",
    "m = mpl.cm.ScalarMappable(norm=norm, cmap='coolwarm_r')\n",
    "plt.figure()\n",
    "plt.imshow(rgb2, extent = [bounds[0], bounds[2], bounds[1], bounds[3]])\n",
    "for node in tqdm(poly_graph_1.nodes):\n",
    "        poly = poly_graph_1.nodes[node]['poly']\n",
    "        if type(poly) == Polygon:\n",
    "            plt.fill(poly.exterior.xy[0], poly.exterior.xy[1], \n",
    "                facecolor = m.to_rgba(poly_graph_1.nodes[node]['curv']*400), \n",
    "                edgecolor='k', linewidth=0.25, alpha=1)\n",
    "            \n",
    "# ch = mg.create_channel_polygon_2(X1[-1], Y1[-1], X2[-1], Y2[-1])\n",
    "# plt.fill(ch.exterior.xy[0], ch.exterior.xy[1], 'b', alpha=0.2)\n",
    "\n",
    "plt.xlim(xlim)\n",
    "plt.ylim(ylim)"
   ]
  },
  {
   "cell_type": "code",
   "execution_count": 573,
   "metadata": {},
   "outputs": [
    {
     "data": {
      "text/plain": [
       "(-1671482.6104035194, -1647641.2654740224)"
      ]
     },
     "execution_count": 573,
     "metadata": {},
     "output_type": "execute_result"
    },
    {
     "name": "stderr",
     "output_type": "stream",
     "text": [
      "2023-06-29 14:30:12.840 python[60378:3041780] +[CATransaction synchronize] called within transaction\n"
     ]
    }
   ],
   "source": [
    "plt.figure(41)\n",
    "plt.xlim(xlim)\n",
    "plt.ylim(ylim)"
   ]
  },
  {
   "cell_type": "code",
   "execution_count": 580,
   "metadata": {},
   "outputs": [
    {
     "data": {
      "text/plain": [
       "(0.984313725490196, 0.7058823529411765, 0.6823529411764706, 1.0)"
      ]
     },
     "execution_count": 580,
     "metadata": {},
     "output_type": "execute_result"
    }
   ],
   "source": [
    "cmap(0)"
   ]
  },
  {
   "cell_type": "code",
   "execution_count": 584,
   "metadata": {},
   "outputs": [
    {
     "name": "stderr",
     "output_type": "stream",
     "text": [
      "Clipping input data to the valid range for imshow with RGB data ([0..1] for floats or [0..255] for integers).\n"
     ]
    },
    {
     "data": {
      "text/plain": [
       "(-1671482.6104035194, -1647641.2654740224)"
      ]
     },
     "execution_count": 584,
     "metadata": {},
     "output_type": "execute_result"
    },
    {
     "name": "stderr",
     "output_type": "stream",
     "text": [
      "2023-06-29 14:56:23.781 python[60378:3041780] +[CATransaction synchronize] called within transaction\n",
      "2023-06-29 14:56:42.564 python[60378:3041780] +[CATransaction synchronize] called within transaction\n",
      "2023-06-29 14:56:47.859 python[60378:3041780] +[CATransaction synchronize] called within transaction\n",
      "2023-06-29 14:56:48.961 python[60378:3041780] +[CATransaction synchronize] called within transaction\n",
      "2023-06-29 14:56:49.231 python[60378:3041780] +[CATransaction synchronize] called within transaction\n"
     ]
    }
   ],
   "source": [
    "cmap = plt.get_cmap(\"tab10\")\n",
    "plt.figure()\n",
    "plt.imshow(rgb2, extent = [bounds[0], bounds[2], bounds[1], bounds[3]])\n",
    "for i in range(len(X1)):\n",
    "    plt.plot(X1[i], Y1[i], color=cmap(0))\n",
    "    plt.plot(X2[i], Y2[i], color=cmap(1))\n",
    "plt.xlim(xlim)\n",
    "plt.ylim(ylim)"
   ]
  },
  {
   "cell_type": "code",
   "execution_count": null,
   "metadata": {},
   "outputs": [],
   "source": []
  }
 ],
 "metadata": {
  "kernelspec": {
   "display_name": "Python 3 (ipykernel)",
   "language": "python",
   "name": "python3"
  },
  "language_info": {
   "codemirror_mode": {
    "name": "ipython",
    "version": 3
   },
   "file_extension": ".py",
   "mimetype": "text/x-python",
   "name": "python",
   "nbconvert_exporter": "python",
   "pygments_lexer": "ipython3",
   "version": "3.11.4"
  }
 },
 "nbformat": 4,
 "nbformat_minor": 4
}
