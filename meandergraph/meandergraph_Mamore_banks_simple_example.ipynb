{
 "cells": [
  {
   "cell_type": "markdown",
   "metadata": {},
   "source": [
    "### Import stuff"
   ]
  },
  {
   "cell_type": "code",
   "execution_count": 1,
   "metadata": {},
   "outputs": [],
   "source": [
    "import matplotlib.pyplot as plt\n",
    "import matplotlib.cm as cm\n",
    "import numpy as np\n",
    "from scipy.signal import savgol_filter\n",
    "from scipy.spatial import distance\n",
    "from librosa.sequence import dtw\n",
    "from tqdm import trange, tqdm\n",
    "import networkx as nx\n",
    "from shapely.geometry import Polygon, MultiPolygon, Point, MultiLineString, LineString, shape, JOIN_STYLE\n",
    "from shapely.geometry.polygon import LinearRing\n",
    "from shapely.ops import snap, unary_union\n",
    "import geopandas as gpd\n",
    "import meandergraph as mg\n",
    "from glob import glob\n",
    "\n",
    "%matplotlib qt"
   ]
  },
  {
   "cell_type": "code",
   "execution_count": 84,
   "metadata": {},
   "outputs": [
    {
     "data": {
      "text/plain": [
       "'/Users/zoltan/Dropbox/Meandergraph'"
      ]
     },
     "execution_count": 84,
     "metadata": {},
     "output_type": "execute_result"
    }
   ],
   "source": [
    "pwd"
   ]
  },
  {
   "cell_type": "markdown",
   "metadata": {},
   "source": [
    "### Load data"
   ]
  },
  {
   "cell_type": "code",
   "execution_count": 81,
   "metadata": {},
   "outputs": [],
   "source": [
    "lbs = sorted(glob(\"./data/lb*.shp\"))\n",
    "rbs = sorted(glob(\"./data/rb*.shp\"))"
   ]
  },
  {
   "cell_type": "code",
   "execution_count": 82,
   "metadata": {},
   "outputs": [],
   "source": [
    "X1 = []\n",
    "X2 = []\n",
    "Y1 = []\n",
    "Y2 = []\n",
    "for fname in lbs:\n",
    "    lb = gpd.read_file(fname)\n",
    "    X2.append(lb['geometry'][0].xy[0])\n",
    "    Y2.append(lb['geometry'][0].xy[1])\n",
    "for fname in rbs:\n",
    "    rb = gpd.read_file(fname)\n",
    "    X1.append(rb['geometry'][0].xy[0])\n",
    "    Y1.append(rb['geometry'][0].xy[1])"
   ]
  },
  {
   "cell_type": "code",
   "execution_count": 83,
   "metadata": {},
   "outputs": [],
   "source": [
    "# plot banklines\n",
    "plt.figure()\n",
    "for i in range(len(X1)):\n",
    "    plt.plot(X1[i], Y1[i], 'k', linewidth = 0.5)\n",
    "    plt.plot(X2[i], Y2[i], 'b', linewidth = 0.5)\n",
    "plt.axis('equal');"
   ]
  },
  {
   "cell_type": "markdown",
   "metadata": {},
   "source": [
    "### Define segment of interest"
   ]
  },
  {
   "cell_type": "code",
   "execution_count": 58,
   "metadata": {},
   "outputs": [],
   "source": [
    "points = plt.ginput(n=2) \n",
    "# click twice to select start- and endpoints on first bankline (does not matter which one)"
   ]
  },
  {
   "cell_type": "code",
   "execution_count": 14,
   "metadata": {},
   "outputs": [],
   "source": [
    "points = [(286850.39156848995, -1660631.8404876508),\n",
    " (284610.488612104, -1650178.960024516)]"
   ]
  },
  {
   "cell_type": "code",
   "execution_count": 15,
   "metadata": {},
   "outputs": [
    {
     "data": {
      "text/plain": [
       "[<matplotlib.lines.Line2D at 0x2afd10790>]"
      ]
     },
     "execution_count": 15,
     "metadata": {},
     "output_type": "execute_result"
    }
   ],
   "source": [
    "from scipy import signal, spatial\n",
    "cl_points = np.vstack((X1[0], Y1[0])).T # coordinates of first centerlines\n",
    "tree = spatial.KDTree(cl_points)\n",
    "\n",
    "plt.figure()\n",
    "for i in range(len(X1)):\n",
    "    plt.plot(X1[i], Y1[i], 'k', linewidth = 0.5)\n",
    "    plt.plot(X2[i], Y2[i], 'b', linewidth = 0.5)\n",
    "plt.axis('equal')\n",
    "plt.plot(X1[0][tree.query(points[0])[1]], Y1[0][tree.query(points[0])[1]], \n",
    "         'ro', zorder=10000)\n",
    "plt.plot(X1[0][tree.query(points[1])[1]], Y1[0][tree.query(points[1])[1]], \n",
    "         'ro', zorder=10000)"
   ]
  },
  {
   "cell_type": "code",
   "execution_count": 16,
   "metadata": {},
   "outputs": [],
   "source": [
    "import warnings\n",
    "warnings.filterwarnings('ignore')"
   ]
  },
  {
   "cell_type": "markdown",
   "metadata": {},
   "source": [
    "### Correlate long banklines and create coordinate arrays for segment of interest"
   ]
  },
  {
   "cell_type": "code",
   "execution_count": 17,
   "metadata": {},
   "outputs": [
    {
     "name": "stderr",
     "output_type": "stream",
     "text": [
      "100%|█████████████████████████████████████████████████████████████████████████████████████████████████████████| 30/30 [00:50<00:00,  1.67s/it]\n",
      "100%|█████████████████████████████████████████████████████████████████████████████████████████████████████████| 30/30 [00:48<00:00,  1.61s/it]\n"
     ]
    }
   ],
   "source": [
    "first_index = tree.query(points[0])[1]\n",
    "last_index = tree.query(points[1])[1]\n",
    "\n",
    "first_channel = 0\n",
    "last_channel = 31\n",
    "\n",
    "# correlate all lines:    \n",
    "P1 = []\n",
    "Q1 = []\n",
    "for i in trange(len(X1) - 1):\n",
    "    p, q = mg.correlate_curves(X1[i], X1[i+1], Y1[i], Y1[i+1])\n",
    "    P1.append(p)\n",
    "    Q1.append(q)\n",
    "\n",
    "# correlate all lines:    \n",
    "P2 = []\n",
    "Q2 = []\n",
    "for i in trange(len(X2) - 1):\n",
    "    p, q = mg.correlate_curves(X2[i], X2[i+1], Y2[i], Y2[i+1])\n",
    "    P2.append(p)\n",
    "    Q2.append(q)\n",
    "    \n",
    "indices1, x, y = mg.find_indices(first_index, X1, Y1, P1, Q1)\n",
    "indices2, x, y = mg.find_indices(last_index, X1, Y1, P1, Q1)\n",
    "for i in range(len(X1)):\n",
    "    X1[i] = X1[i][indices1[i] : indices2[i]+1]\n",
    "    Y1[i] = Y1[i][indices1[i] : indices2[i]+1]\n",
    "\n",
    "indices1, x, y = mg.find_indices(first_index, X2, Y2, P2, Q2)\n",
    "indices2, x, y = mg.find_indices(last_index, X2, Y2, P2, Q2)\n",
    "for i in range(len(X2)):\n",
    "    X2[i] = X2[i][indices1[i] : indices2[i]+1]\n",
    "    Y2[i] = Y2[i][indices1[i] : indices2[i]+1]"
   ]
  },
  {
   "cell_type": "markdown",
   "metadata": {},
   "source": [
    "### Resample and correlate centerlines and banklines"
   ]
  },
  {
   "cell_type": "code",
   "execution_count": 27,
   "metadata": {},
   "outputs": [
    {
     "name": "stderr",
     "output_type": "stream",
     "text": [
      "100%|█████████████████████████████████████████████████████████████████████████████████████████████████████████| 30/30 [00:24<00:00,  1.21it/s]\n",
      "100%|█████████████████████████████████████████████████████████████████████████████████████████████████████████| 30/30 [00:25<00:00,  1.18it/s]\n"
     ]
    }
   ],
   "source": [
    "# resample centerlines to ds = 2.0 meters:\n",
    "for i in range(len(X1)):\n",
    "    x,y,dx,dy,ds,s = mg.resample_centerline(X1[i], Y1[i], 2.0)\n",
    "    X1[i] = x\n",
    "    Y1[i] = y\n",
    "for i in range(len(X2)):\n",
    "    x,y,dx,dy,ds,s = mg.resample_centerline(X2[i], Y2[i], 2.0)\n",
    "    X2[i] = x\n",
    "    Y2[i] = y\n",
    "\n",
    "P1, Q1 = mg.correlate_set_of_curves(X1, Y1)\n",
    "P2, Q2 = mg.correlate_set_of_curves(X2, Y2)"
   ]
  },
  {
   "cell_type": "code",
   "execution_count": 28,
   "metadata": {},
   "outputs": [],
   "source": [
    "plt.figure()\n",
    "plt.plot(X1[10], Y1[10])\n",
    "plt.plot(X2[10], Y2[10])\n",
    "plt.axis('equal');"
   ]
  },
  {
   "cell_type": "markdown",
   "metadata": {},
   "source": [
    "### Create centerline- and bank graphs"
   ]
  },
  {
   "cell_type": "code",
   "execution_count": 29,
   "metadata": {},
   "outputs": [
    {
     "name": "stderr",
     "output_type": "stream",
     "text": [
      "100%|████████████████████████████████████████████████████████████████████████████████████████████████████████| 30/30 [00:00<00:00, 460.38it/s]\n",
      "100%|████████████████████████████████████████████████████████████████████████████████████████████████████| 635/635 [00:00<00:00, 20405.47it/s]\n",
      "100%|███████████████████████████████████████████████████████████████████████████████████████████████████████| 31/31 [00:00<00:00, 1847.11it/s]\n",
      "100%|████████████████████████████████████████████████████████████████████████████████████████████████████████| 30/30 [00:00<00:00, 517.60it/s]\n",
      "100%|████████████████████████████████████████████████████████████████████████████████████████████████████| 645/645 [00:00<00:00, 20267.65it/s]\n",
      "100%|███████████████████████████████████████████████████████████████████████████████████████████████████████| 31/31 [00:00<00:00, 1609.64it/s]\n"
     ]
    }
   ],
   "source": [
    "ts = len(X1)\n",
    "graph1 = mg.create_graph_from_channel_lines(X1[:ts], Y1[:ts], P1[:ts-1], Q1[:ts-1], n_points=20, max_dist=1000, remove_cutoff_edges=True)\n",
    "graph2 = mg.create_graph_from_channel_lines(X2[:ts], Y2[:ts], P2[:ts-1], Q2[:ts-1], n_points=20, max_dist=1000, remove_cutoff_edges=True)"
   ]
  },
  {
   "cell_type": "code",
   "execution_count": 30,
   "metadata": {},
   "outputs": [
    {
     "name": "stderr",
     "output_type": "stream",
     "text": [
      "100%|████████████████████████████████████████████████████████████████████████████████████████████████████████| 31/31 [00:00<00:00, 320.01it/s]\n",
      "100%|████████████████████████████████████████████████████████████████████████████████████████████████████████| 31/31 [00:00<00:00, 258.68it/s]\n"
     ]
    }
   ],
   "source": [
    "graph1 = mg.remove_high_density_nodes(graph1, min_dist = 20, max_dist = 60)\n",
    "graph2 = mg.remove_high_density_nodes(graph2, min_dist = 20, max_dist = 60)"
   ]
  },
  {
   "cell_type": "markdown",
   "metadata": {},
   "source": [
    "### Plot one of the graphs"
   ]
  },
  {
   "cell_type": "code",
   "execution_count": 31,
   "metadata": {},
   "outputs": [],
   "source": [
    "fig = plt.figure()\n",
    "ax = fig.add_subplot(111)\n",
    "mg.plot_graph(graph2, ax)\n",
    "plt.axis('equal');"
   ]
  },
  {
   "cell_type": "code",
   "execution_count": 382,
   "metadata": {},
   "outputs": [],
   "source": [
    "# save graphs\n",
    "nx.write_gpickle(graph1, \"graph1.gpickle\")\n",
    "nx.write_gpickle(graph2, \"graph2.gpickle\")"
   ]
  },
  {
   "cell_type": "code",
   "execution_count": 33,
   "metadata": {},
   "outputs": [
    {
     "name": "stderr",
     "output_type": "stream",
     "text": [
      "100%|████████████████████████████████████████████████████████████████████████████████████████████████████████| 30/30 [00:00<00:00, 178.42it/s]\n",
      "100%|███████████████████████████████████████████████████████████████████████████████████████████████████████| 31/31 [00:00<00:00, 2140.44it/s]\n",
      "100%|████████████████████████████████████████████████████████████████████████████████████████████████████████| 31/31 [00:00<00:00, 128.56it/s]\n"
     ]
    }
   ],
   "source": [
    "reload(mg)\n",
    "cutoff_area = 1*1e6\n",
    "\n",
    "fig = plt.figure()\n",
    "ax = fig.add_subplot(111)\n",
    "bars, chs, all_chs, jumps, cutoffs = mg.plot_bars_from_banks(graph1, graph2, cutoff_area, ax)"
   ]
  },
  {
   "cell_type": "markdown",
   "metadata": {},
   "source": [
    "### Create and plot scrolls and bars (connected scrolls)"
   ]
  },
  {
   "cell_type": "code",
   "execution_count": 34,
   "metadata": {},
   "outputs": [
    {
     "name": "stderr",
     "output_type": "stream",
     "text": [
      "100%|████████████████████████████████████████████████████████████████████████████████████████████████████████| 30/30 [00:00<00:00, 180.77it/s]\n",
      "100%|███████████████████████████████████████████████████████████████████████████████████████████████████████| 31/31 [00:00<00:00, 2057.33it/s]\n",
      "100%|█████████████████████████████████████████████████████████████████████████████████████████████████████████| 31/31 [00:00<00:00, 94.57it/s]\n",
      "100%|█████████████████████████████████████████████████████████████████████████████████████████████████████████| 30/30 [00:00<00:00, 89.16it/s]\n",
      "100%|█████████████████████████████████████████████████████████████████████████████████████████████████████████| 30/30 [00:00<00:00, 93.59it/s]\n",
      "100%|█████████████████████████████████████████████████████████████████████████████████████████████████████████| 30/30 [00:00<00:00, 92.47it/s]\n",
      "100%|█████████████████████████████████████████████████████████████████████████████████████████████████████████| 30/30 [00:00<00:00, 92.08it/s]\n",
      "100%|█████████████████████████████████████████████████████████████████████████████████████████████████████████| 30/30 [00:00<00:00, 94.32it/s]\n",
      "100%|█████████████████████████████████████████████████████████████████████████████████████████████████████████| 30/30 [00:00<00:00, 93.87it/s]\n",
      "100%|█████████████████████████████████████████████████████████████████████████████████████████████████████████| 30/30 [00:00<00:00, 91.30it/s]\n",
      "100%|█████████████████████████████████████████████████████████████████████████████████████████████████████████| 30/30 [00:00<00:00, 90.45it/s]\n",
      "100%|█████████████████████████████████████████████████████████████████████████████████████████████████████████| 30/30 [00:00<00:00, 95.55it/s]\n"
     ]
    }
   ],
   "source": [
    "from importlib import reload\n",
    "reload(mg)\n",
    "cutoff_area = 1*1e6\n",
    "scrolls, scroll_ages, cutoffs, all_bars_graph = mg.create_scrolls_and_find_connected_scrolls(graph1, graph2, cutoff_area)\n",
    "plt.axis('equal');"
   ]
  },
  {
   "cell_type": "markdown",
   "metadata": {},
   "source": [
    "### Create and plot 'bar graphs', colored by migration rate"
   ]
  },
  {
   "cell_type": "code",
   "execution_count": 36,
   "metadata": {},
   "outputs": [
    {
     "name": "stderr",
     "output_type": "stream",
     "text": [
      "100%|████████████████████████████████████████████████████████████████████████████████████████████████████████| 31/31 [00:00<00:00, 182.56it/s]\n",
      "100%|████████████████████████████████████████████████████████████████████████████████████████████████████████| 31/31 [00:00<00:00, 209.47it/s]\n"
     ]
    }
   ],
   "source": [
    "graph1 = mg.add_edge_directions_to_bank_graph(graph1)\n",
    "graph2 = mg.add_edge_directions_to_bank_graph(graph2)"
   ]
  },
  {
   "cell_type": "code",
   "execution_count": 37,
   "metadata": {},
   "outputs": [
    {
     "name": "stderr",
     "output_type": "stream",
     "text": [
      "100%|█████████████████████████████████████████████████████████████████████████████████████████████████████████| 30/30 [00:00<00:00, 31.69it/s]\n",
      "100%|█████████████████████████████████████████████████████████████████████████████████████████████████████████| 30/30 [00:00<00:00, 36.60it/s]\n",
      "100%|█████████████████████████████████████████████████████████████████████████████████████████████████████████| 13/13 [00:04<00:00,  3.22it/s]\n"
     ]
    }
   ],
   "source": [
    "# create bars and bar graphs\n",
    "reload(mg)\n",
    "min_area = 1000\n",
    "wbars, poly_graph_1, poly_graph_2 = mg.create_polygon_graphs_and_bar_graphs(graph1, graph2, all_bars_graph, \n",
    "                                                    scrolls, scroll_ages, cutoffs, X1, Y1, X2, Y2, min_area)"
   ]
  },
  {
   "cell_type": "code",
   "execution_count": 41,
   "metadata": {},
   "outputs": [
    {
     "name": "stderr",
     "output_type": "stream",
     "text": [
      "100%|█████████████████████████████████████████████████████████████████████████████████████████████████████████| 13/13 [00:01<00:00,  7.88it/s]\n"
     ]
    }
   ],
   "source": [
    "# plot them, using migration rate\n",
    "fig = plt.figure(figsize = (12, 12)) \n",
    "ax = fig.add_subplot(111)\n",
    "mg.plot_bar_graphs(graph1, graph2, wbars, ts, cutoffs, 356*24*60*60, X1, Y1, X2, Y2, 300, 1, -500, 500, 'migration', ax)\n",
    "ax.set_adjustable(\"box\")\n",
    "ax.axis('equal')\n",
    "fig.tight_layout()"
   ]
  },
  {
   "cell_type": "markdown",
   "metadata": {},
   "source": [
    "### Plot bank polygon graphs, colored by age"
   ]
  },
  {
   "cell_type": "code",
   "execution_count": 44,
   "metadata": {},
   "outputs": [],
   "source": [
    "import matplotlib as mpl\n",
    "fig = plt.figure()\n",
    "ax = fig.add_subplot(111)\n",
    "norm = mpl.colors.Normalize(vmin=0, vmax=len(X1))\n",
    "m = mpl.cm.ScalarMappable(norm=norm, cmap='viridis')\n",
    "for node in poly_graph_1.nodes:\n",
    "        poly = poly_graph_1.nodes[node]['poly']\n",
    "        if type(poly) == Polygon:\n",
    "            ax.fill(poly.exterior.xy[0], poly.exterior.xy[1], \n",
    "                facecolor = m.to_rgba(poly_graph_1.nodes[node]['age']), \n",
    "                edgecolor='k', linewidth=0.25, alpha=0.4)\n",
    "plt.axis('equal');"
   ]
  },
  {
   "cell_type": "code",
   "execution_count": 45,
   "metadata": {},
   "outputs": [],
   "source": [
    "import matplotlib as mpl\n",
    "fig = plt.figure()\n",
    "ax = fig.add_subplot(111)\n",
    "norm = mpl.colors.Normalize(vmin=0, vmax=len(X1))\n",
    "m = mpl.cm.ScalarMappable(norm=norm, cmap='viridis')\n",
    "for node in poly_graph_2.nodes:\n",
    "        poly = poly_graph_2.nodes[node]['poly']\n",
    "        if type(poly) == Polygon:\n",
    "            ax.fill(poly.exterior.xy[0], poly.exterior.xy[1], \n",
    "                facecolor = m.to_rgba(poly_graph_2.nodes[node]['age']), \n",
    "                edgecolor='k', linewidth=0.25, alpha=0.4)\n",
    "plt.axis('equal');"
   ]
  },
  {
   "cell_type": "markdown",
   "metadata": {},
   "source": [
    "### Plot bank polygon graphs, colored by migartion rate"
   ]
  },
  {
   "cell_type": "code",
   "execution_count": 47,
   "metadata": {},
   "outputs": [
    {
     "name": "stderr",
     "output_type": "stream",
     "text": [
      "100%|█████████████████████████████████████████████████████████████████████████████████████████████████| 12859/12859 [00:04<00:00, 3013.98it/s]\n"
     ]
    }
   ],
   "source": [
    "fig = plt.figure()\n",
    "ax = fig.add_subplot(111)\n",
    "norm = mpl.colors.Normalize(vmin=-100, vmax=100)\n",
    "m = mpl.cm.ScalarMappable(norm=norm, cmap='coolwarm_r')\n",
    "for node in tqdm(poly_graph_2.nodes):\n",
    "        poly = poly_graph_2.nodes[node]['poly']\n",
    "        if type(poly) == Polygon:\n",
    "            ax.fill(poly.exterior.xy[0], poly.exterior.xy[1], \n",
    "                facecolor = m.to_rgba(poly_graph_2.nodes[node]['migr_rate']*poly_graph_2.nodes[node]['direction']), \n",
    "                edgecolor='k', linewidth=0.25, alpha=0.4)\n",
    "plt.axis('equal');"
   ]
  },
  {
   "cell_type": "code",
   "execution_count": 46,
   "metadata": {},
   "outputs": [
    {
     "name": "stderr",
     "output_type": "stream",
     "text": [
      "100%|█████████████████████████████████████████████████████████████████████████████████████████████████| 12817/12817 [00:03<00:00, 3222.93it/s]\n"
     ]
    }
   ],
   "source": [
    "fig = plt.figure()\n",
    "ax = fig.add_subplot(111)\n",
    "norm = mpl.colors.Normalize(vmin=-100, vmax=100)\n",
    "m = mpl.cm.ScalarMappable(norm=norm, cmap='coolwarm')\n",
    "for node in tqdm(poly_graph_1.nodes):\n",
    "        poly = poly_graph_1.nodes[node]['poly']\n",
    "        if type(poly) == Polygon:\n",
    "            ax.fill(poly.exterior.xy[0], poly.exterior.xy[1], \n",
    "                facecolor = m.to_rgba(poly_graph_1.nodes[node]['migr_rate']*poly_graph_1.nodes[node]['direction']), \n",
    "                edgecolor='k', linewidth=0.25, alpha=0.4)\n",
    "plt.axis('equal');"
   ]
  },
  {
   "cell_type": "code",
   "execution_count": 48,
   "metadata": {},
   "outputs": [
    {
     "data": {
      "text/plain": [
       "{'poly': <POLYGON ((286275.332 -1659393.801, 286273.186 -1659345.89, 286230.274 -1659...>,\n",
       " 'age': 8,\n",
       " 'x': 286275.3317981459,\n",
       " 'y': -1659393.80058118,\n",
       " 'length': 38.45160154302671,\n",
       " 'width': 49.96392358661022,\n",
       " 'direction': 1,\n",
       " 'migr_rate': 38.45160154302671,\n",
       " 'curv': -0.00041651490029482165}"
      ]
     },
     "execution_count": 48,
     "metadata": {},
     "output_type": "execute_result"
    }
   ],
   "source": [
    "poly_graph_1.nodes[1000]"
   ]
  },
  {
   "cell_type": "markdown",
   "metadata": {},
   "source": [
    "### Plot radial lines for line graphs"
   ]
  },
  {
   "cell_type": "code",
   "execution_count": 49,
   "metadata": {},
   "outputs": [
    {
     "name": "stderr",
     "output_type": "stream",
     "text": [
      "100%|██████████████████████████████████████████████████████████████████████████████████████████████████████| 695/695 [00:02<00:00, 293.02it/s]\n"
     ]
    }
   ],
   "source": [
    "fig = plt.figure()\n",
    "ax = fig.add_subplot(111)\n",
    "cmap = plt.get_cmap(\"tab10\")\n",
    "for node in tqdm(graph1.graph['start_nodes']):\n",
    "    path, path_ages = mg.find_radial_path(graph1, node)\n",
    "    for i in range(len(path)-1):\n",
    "        if graph1[path[i]][path[i+1]]['direction'] == 1:   # erosion on the right bank\n",
    "            ax.plot(graph1.graph['x'][[path[i], path[i+1]]], \n",
    "                    graph1.graph['y'][[path[i], path[i+1]]], color=cmap(1))\n",
    "        if graph1[path[i]][path[i+1]]['direction'] == -1:  # deposition on the right bank\n",
    "            ax.plot(graph1.graph['x'][[path[i], path[i+1]]], \n",
    "                    graph1.graph['y'][[path[i], path[i+1]]], color=cmap(0))\n",
    "plt.axis('equal');"
   ]
  },
  {
   "cell_type": "code",
   "execution_count": 50,
   "metadata": {},
   "outputs": [],
   "source": [
    "# add curvature attribute to bankline graphs (needed for curvature maps)\n",
    "mg.add_curvature_to_line_graph(graph1, smoothing_factor = 51)\n",
    "mg.add_curvature_to_line_graph(graph2, smoothing_factor = 51)"
   ]
  },
  {
   "cell_type": "code",
   "execution_count": 51,
   "metadata": {},
   "outputs": [
    {
     "data": {
      "text/plain": [
       "-0.00033719556962841674"
      ]
     },
     "execution_count": 51,
     "metadata": {},
     "output_type": "execute_result"
    }
   ],
   "source": [
    "graph1.nodes[1000]['curv']"
   ]
  },
  {
   "cell_type": "markdown",
   "metadata": {},
   "source": [
    "### Plot migration rate map for one bar"
   ]
  },
  {
   "cell_type": "code",
   "execution_count": 56,
   "metadata": {},
   "outputs": [],
   "source": [
    "reload(mg)\n",
    "fig = plt.figure()\n",
    "ax = fig.add_subplot(111)\n",
    "ax.fill(wbars[2].polygon.exterior.xy[0], wbars[2].polygon.exterior.xy[1])\n",
    "mg.plot_migration_rate_map(wbars[2], graph1, graph2, vmin=-300, vmax=300, dt=365*24*60*60, saved_ts=1, ax=ax)\n",
    "plt.axis('equal');"
   ]
  },
  {
   "cell_type": "markdown",
   "metadata": {},
   "source": [
    "### Plot age map for one bar"
   ]
  },
  {
   "cell_type": "code",
   "execution_count": 57,
   "metadata": {},
   "outputs": [],
   "source": [
    "reload(mg)\n",
    "fig = plt.figure()\n",
    "ax = fig.add_subplot(111)\n",
    "mg.plot_age_map(wbars[1], vmin=0, vmax=ts, W=300, ax=ax)\n",
    "plt.axis('equal');"
   ]
  },
  {
   "cell_type": "markdown",
   "metadata": {},
   "source": [
    "### Plot bar polygons and their numbers"
   ]
  },
  {
   "cell_type": "code",
   "execution_count": 63,
   "metadata": {},
   "outputs": [],
   "source": [
    "# plot bar polygons and their numbers\n",
    "fig = plt.figure(figsize = (15, 9))\n",
    "ax = fig.add_subplot(111)\n",
    "for wbar in wbars:\n",
    "    wbar.add_bank_type() # add bank type\n",
    "    if wbar.bank_type == 'right':\n",
    "        plt.fill(wbar.polygon.exterior.xy[0], wbar.polygon.exterior.xy[1], color='r')\n",
    "    if wbar.bank_type == 'left':\n",
    "        plt.fill(wbar.polygon.exterior.xy[0], wbar.polygon.exterior.xy[1], color='b')\n",
    "count = 0\n",
    "for wbar in wbars:\n",
    "    ax.text(wbar.polygon.centroid.x, wbar.polygon.centroid.y, str(count), fontsize = 16)\n",
    "    count += 1\n",
    "plt.axis('equal');"
   ]
  },
  {
   "cell_type": "markdown",
   "metadata": {},
   "source": [
    "### Write shapefile"
   ]
  },
  {
   "cell_type": "code",
   "execution_count": 65,
   "metadata": {},
   "outputs": [
    {
     "data": {
      "text/html": [
       "<div>\n",
       "<style scoped>\n",
       "    .dataframe tbody tr th:only-of-type {\n",
       "        vertical-align: middle;\n",
       "    }\n",
       "\n",
       "    .dataframe tbody tr th {\n",
       "        vertical-align: top;\n",
       "    }\n",
       "\n",
       "    .dataframe thead th {\n",
       "        text-align: right;\n",
       "    }\n",
       "</style>\n",
       "<table border=\"1\" class=\"dataframe\">\n",
       "  <thead>\n",
       "    <tr style=\"text-align: right;\">\n",
       "      <th></th>\n",
       "      <th>geometry</th>\n",
       "      <th>migr_rate</th>\n",
       "      <th>direction</th>\n",
       "      <th>age</th>\n",
       "      <th>area</th>\n",
       "    </tr>\n",
       "  </thead>\n",
       "  <tbody>\n",
       "    <tr>\n",
       "      <th>0</th>\n",
       "      <td>POLYGON ((286633.664 -1660686.281, 286623.486 ...</td>\n",
       "      <td>-29.802574</td>\n",
       "      <td>-1</td>\n",
       "      <td>0</td>\n",
       "      <td>1157.279046</td>\n",
       "    </tr>\n",
       "    <tr>\n",
       "      <th>1</th>\n",
       "      <td>POLYGON ((286623.486 -1660647.625, 286615.079 ...</td>\n",
       "      <td>-29.969284</td>\n",
       "      <td>-1</td>\n",
       "      <td>0</td>\n",
       "      <td>1194.721587</td>\n",
       "    </tr>\n",
       "    <tr>\n",
       "      <th>2</th>\n",
       "      <td>POLYGON ((286615.079 -1660608.546, 286607.272 ...</td>\n",
       "      <td>-27.036389</td>\n",
       "      <td>-1</td>\n",
       "      <td>0</td>\n",
       "      <td>1078.157223</td>\n",
       "    </tr>\n",
       "    <tr>\n",
       "      <th>3</th>\n",
       "      <td>POLYGON ((286607.272 -1660569.328, 286597.242 ...</td>\n",
       "      <td>-24.080664</td>\n",
       "      <td>-1</td>\n",
       "      <td>0</td>\n",
       "      <td>937.859885</td>\n",
       "    </tr>\n",
       "    <tr>\n",
       "      <th>4</th>\n",
       "      <td>POLYGON ((286597.242 -1660530.612, 286589.744 ...</td>\n",
       "      <td>-23.764626</td>\n",
       "      <td>-1</td>\n",
       "      <td>0</td>\n",
       "      <td>950.129299</td>\n",
       "    </tr>\n",
       "  </tbody>\n",
       "</table>\n",
       "</div>"
      ],
      "text/plain": [
       "                                            geometry  migr_rate  direction  \\\n",
       "0  POLYGON ((286633.664 -1660686.281, 286623.486 ... -29.802574         -1   \n",
       "1  POLYGON ((286623.486 -1660647.625, 286615.079 ... -29.969284         -1   \n",
       "2  POLYGON ((286615.079 -1660608.546, 286607.272 ... -27.036389         -1   \n",
       "3  POLYGON ((286607.272 -1660569.328, 286597.242 ... -24.080664         -1   \n",
       "4  POLYGON ((286597.242 -1660530.612, 286589.744 ... -23.764626         -1   \n",
       "\n",
       "   age         area  \n",
       "0    0  1157.279046  \n",
       "1    0  1194.721587  \n",
       "2    0  1078.157223  \n",
       "3    0   937.859885  \n",
       "4    0   950.129299  "
      ]
     },
     "execution_count": 65,
     "metadata": {},
     "output_type": "execute_result"
    }
   ],
   "source": [
    "polys = []\n",
    "migr_rates = []\n",
    "directions = []\n",
    "ages = []\n",
    "for node in poly_graph_1.nodes:\n",
    "    polys.append(poly_graph_1.nodes[node]['poly'])\n",
    "    migr_rates.append(poly_graph_1.nodes[node]['migr_rate']*poly_graph_1.nodes[node]['direction'])\n",
    "    directions.append(poly_graph_1.nodes[node]['direction'])\n",
    "    ages.append(poly_graph_1.nodes[node]['age'])\n",
    "gdf = gpd.GeoDataFrame(polys, columns = ['geometry'])\n",
    "gdf['migr_rate'] = migr_rates\n",
    "gdf['direction'] = directions\n",
    "gdf['age'] = ages\n",
    "gdf['area'] = gdf.area\n",
    "gdf.head()"
   ]
  },
  {
   "cell_type": "code",
   "execution_count": 66,
   "metadata": {},
   "outputs": [],
   "source": [
    "gdf.crs = {'init' :'epsg:32620'}"
   ]
  },
  {
   "cell_type": "code",
   "execution_count": 68,
   "metadata": {},
   "outputs": [],
   "source": [
    "gdf.to_file(\"mamore_right_bank.shp\") # write shapefile"
   ]
  }
 ],
 "metadata": {
  "kernelspec": {
   "display_name": "Python 3 (ipykernel)",
   "language": "python",
   "name": "python3"
  },
  "language_info": {
   "codemirror_mode": {
    "name": "ipython",
    "version": 3
   },
   "file_extension": ".py",
   "mimetype": "text/x-python",
   "name": "python",
   "nbconvert_exporter": "python",
   "pygments_lexer": "ipython3",
   "version": "3.11.4"
  }
 },
 "nbformat": 4,
 "nbformat_minor": 4
}
